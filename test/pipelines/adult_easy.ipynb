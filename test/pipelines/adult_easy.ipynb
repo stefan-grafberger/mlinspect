{
 "cells": [
  {
   "cell_type": "code",
   "execution_count": 6,
   "metadata": {},
   "outputs": [
    {
     "name": "stderr",
     "output_type": "stream",
     "text": [
      "/usr/local/lib/python3.7/site-packages/sklearn/utils/validation.py:71: FutureWarning:\n",
      "\n",
      "Pass classes=['>50K', '<=50K'] as keyword args. From version 0.25 passing these as positional arguments will result in an error\n",
      "\n"
     ]
    },
    {
     "name": "stdout",
     "output_type": "stream",
     "text": [
      "[1 1 1 ... 1 0 1]\n"
     ]
    }
   ],
   "source": [
    "import os\n",
    "from collections import defaultdict\n",
    "import pandas as pd\n",
    "import numpy as np\n",
    "\n",
    "from sklearn.preprocessing import OneHotEncoder, StandardScaler, label_binarize, KBinsDiscretizer\n",
    "from sklearn.compose import ColumnTransformer\n",
    "from sklearn.impute import SimpleImputer\n",
    "from sklearn.pipeline import Pipeline\n",
    "from sklearn.linear_model import LogisticRegression\n",
    "from sklearn.tree import DecisionTreeClassifier\n",
    "from sklearn.ensemble import RandomForestClassifier\n",
    "\n",
    "\n",
    "\n",
    "raw_data = pd.read_csv('/Users/stefangrafberger/Documents/uni/master-thesis/fairDAGs-master/data/adult_train.csv', na_values='?', index_col=0)\n",
    "\n",
    "data = raw_data.dropna()\n",
    "\n",
    "labels = label_binarize(data['income-per-year'], ['>50K', '<=50K'])\n",
    "\n",
    "feature_transformation = ColumnTransformer(transformers=[\n",
    "    ('categorical', OneHotEncoder(handle_unknown='ignore'), ['education', 'workclass']),\n",
    "    ('numeric', StandardScaler(), ['age', 'hours-per-week'])\n",
    "])\n",
    "\n",
    "\n",
    "income_pipeline = Pipeline([\n",
    "    ('features', feature_transformation),\n",
    "    ('classifier', DecisionTreeClassifier())])\n",
    "\n",
    "income_pipeline.fit(data, labels)\n",
    "print(income_pipeline.predict(data))"
   ]
  },
  {
   "cell_type": "code",
   "execution_count": null,
   "metadata": {},
   "outputs": [],
   "source": []
  }
 ],
 "metadata": {
  "kernelspec": {
   "display_name": "Python 3",
   "language": "python",
   "name": "python3"
  },
  "language_info": {
   "codemirror_mode": {
    "name": "ipython",
    "version": 3
   },
   "file_extension": ".py",
   "mimetype": "text/x-python",
   "name": "python",
   "nbconvert_exporter": "python",
   "pygments_lexer": "ipython3",
   "version": "3.7.7"
  }
 },
 "nbformat": 4,
 "nbformat_minor": 2
}
