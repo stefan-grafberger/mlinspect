{
 "cells": [
  {
   "cell_type": "code",
   "execution_count": null,
   "metadata": {
    "pycharm": {
     "is_executing": true
    }
   },
   "outputs": [],
   "source": [
    "import os\n",
    "os.environ['TF_CPP_MIN_LOG_LEVEL'] = '2'  # Some tensorflow warnings in the pipeline we inspect\n",
    "from mlinspect.utils import get_project_root\n",
    "from example_pipelines.healthcare import custom_monkeypatching\n",
    "\n",
    "from mlinspect import PipelineInspector\n",
    "from mlinspect.inspections import MaterializeFirstOutputRows\n",
    "\n",
    "HEALTHCARE_FILE_PY = os.path.join(str(get_project_root()), \"examples\", \"explainability\", \"example_pipeline.py\")\n",
    "\n",
    "inspector_result = PipelineInspector\\\n",
    "    .on_pipeline_from_py_file(HEALTHCARE_FILE_PY) \\\n",
    "    .add_custom_monkey_patching_module(custom_monkeypatching) \\\n",
    "    .add_required_inspection(MaterializeFirstOutputRows(5)) \\\n",
    "    .execute()\n",
    "\n",
    "extracted_dag = inspector_result.dag\n",
    "dag_node_to_inspection_results = inspector_result.dag_node_to_inspection_results\n",
    "check_results = inspector_result.check_to_check_results"
   ]
  },
  {
   "cell_type": "code",
   "execution_count": 1,
   "metadata": {},
   "outputs": [],
   "source": [
    "from IPython.display import Image\n",
    "from mlinspect.visualisation import save_fig_to_path\n",
    "\n",
    "filename = os.path.join(str(get_project_root()), \"examples\", \"explainability\", \"explainability.png\")\n",
    "save_fig_to_path(extracted_dag, filename)\n",
    "\n",
    "Image(filename=filename)"
   ]
  },
  {
   "cell_type": "code",
   "execution_count": null,
   "outputs": [],
   "source": [
    "from IPython.display import display\n",
    "\n",
    "check_result_df = PipelineInspector.check_results_as_data_frame(check_results)\n",
    "display(check_result_df)"
   ],
   "metadata": {
    "collapsed": false
   }
  },
  {
   "cell_type": "code",
   "execution_count": null,
   "outputs": [],
   "source": [
    "from IPython.display import display\n",
    "\n",
    "relevant_nodes = [node for node in extracted_dag.nodes if node.node_id in {17, 18}]\n",
    "\n",
    "for dag_node in relevant_nodes:\n",
    "    print(\"\\n\\033[1m{} ({})\\033[0m\\n{}\\n{}\".format(\n",
    "        dag_node.operator_info.operator,\n",
    "        dag_node.details.description,\n",
    "        dag_node.optional_code_info.source_code,\n",
    "        dag_node.optional_code_info.code_reference))\n",
    "    materialize_inspection_result = dag_node_to_inspection_results[dag_node][MaterializeFirstOutputRows(5)]\n",
    "    display(materialize_inspection_result)"
   ],
   "metadata": {
    "collapsed": false
   }
  }
 ],
 "metadata": {
  "kernelspec": {
   "display_name": "venv",
   "language": "python",
   "name": "venv"
  },
  "language_info": {
   "codemirror_mode": {
    "name": "ipython",
    "version": 3
   },
   "file_extension": ".py",
   "mimetype": "text/x-python",
   "name": "python",
   "nbconvert_exporter": "python",
   "pygments_lexer": "ipython3",
   "version": "3.9.16"
  }
 },
 "nbformat": 4,
 "nbformat_minor": 1
}
