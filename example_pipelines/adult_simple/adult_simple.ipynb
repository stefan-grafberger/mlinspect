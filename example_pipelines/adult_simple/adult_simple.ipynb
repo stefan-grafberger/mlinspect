{
 "cells": [
  {
   "cell_type": "code",
   "execution_count": 1,
   "metadata": {},
   "outputs": [
    {
     "name": "stdout",
     "output_type": "stream",
     "text": [
      "pipeline start\n",
      "pipeline finished\n"
     ]
    }
   ],
   "source": [
    "\"\"\"\n",
    "An example pipeline\n",
    "\"\"\"\n",
    "import os\n",
    "import pandas as pd\n",
    "\n",
    "from sklearn import compose, preprocessing, tree, pipeline\n",
    "from mlinspect.utils import get_project_root\n",
    "\n",
    "print('pipeline start')\n",
    "train_file = os.path.join(str(get_project_root()), \"example_pipelines\", \"adult_complex\", \"adult_train.csv\")\n",
    "raw_data = pd.read_csv(train_file, na_values='?', index_col=0)\n",
    "\n",
    "data = raw_data.dropna()\n",
    "\n",
    "labels = preprocessing.label_binarize(data['income-per-year'], classes=['>50K', '<=50K'])\n",
    "\n",
    "feature_transformation = compose.ColumnTransformer(transformers=[\n",
    "    ('categorical', preprocessing.OneHotEncoder(handle_unknown='ignore'), ['education', 'workclass']),\n",
    "    ('numeric', preprocessing.StandardScaler(), ['age', 'hours-per-week'])\n",
    "])\n",
    "\n",
    "\n",
    "income_pipeline = pipeline.Pipeline([\n",
    "    ('features', feature_transformation),\n",
    "    ('classifier', tree.DecisionTreeClassifier())])\n",
    "\n",
    "income_pipeline.fit(data, labels)\n",
    "\n",
    "\n",
    "print('pipeline finished')"
   ]
  },
  {
   "cell_type": "code",
   "execution_count": null,
   "metadata": {},
   "outputs": [],
   "source": []
  }
 ],
 "metadata": {
  "kernelspec": {
   "display_name": "Python 3",
   "language": "python",
   "name": "python3"
  },
  "language_info": {
   "codemirror_mode": {
    "name": "ipython",
    "version": 3
   },
   "file_extension": ".py",
   "mimetype": "text/x-python",
   "name": "python",
   "nbconvert_exporter": "python",
   "pygments_lexer": "ipython3",
   "version": "3.8.5"
  }
 },
 "nbformat": 4,
 "nbformat_minor": 2
}
