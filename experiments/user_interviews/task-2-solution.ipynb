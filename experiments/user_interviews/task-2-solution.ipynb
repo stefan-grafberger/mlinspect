{
 "cells": [
  {
   "cell_type": "markdown",
   "metadata": {},
   "source": [
    "# Task\n",
    "\n",
    "Operators like joins, selections and missing value imputaters can cause *data distribution issues*, which can heavily impact the performance of our model for specific demographic groups. Mlinspect helps with identifying such issues by offering a check that calculates histograms for sensitive groups in the data and verifying whether the histogram change is significant enough to alert the user. Thanks to our annotation propagation, we can deal with complex code involving things like nested sklearn pipelines and group memberships that are removed from the training data using projections.\n",
    "\n",
    "We want to find out if preprocessing operations in pipelines introduce bias and if so, which groups are effected.\n",
    "The pipeline we want to analyse in this task can be found using the path `os.path.join(str(get_project_root()), \"example_pipelines\", \"healthcare\", \"healthcare.py\")`. The senstive attributes we want to take a look at are `age_group` and `race`. \n",
    "\n",
    "It this task, we use a pipeline we created using synthetic data.\n",
    "\n",
    "The code of the pipeline:\n",
    "\n",
    "> ```python\n",
    "> \"\"\"\n",
    "> An example pipeline\n",
    "> \"\"\"\n",
    "> import os\n",
    "> import warnings\n",
    "> \n",
    "> import pandas as pd\n",
    "> from sklearn.compose import ColumnTransformer\n",
    "> from sklearn.impute import SimpleImputer\n",
    "> > from sklearn.model_selection import train_test_split\n",
    "> from sklearn.pipeline import Pipeline\n",
    "> from sklearn.preprocessing import OneHotEncoder, StandardScaler\n",
    "> from tensorflow.keras.wrappers.scikit_learn import KerasClassifier\n",
    "> from example_pipelines.healthcare.healthcare_utils import MyW2VTransformer, create_model\n",
    "> from mlinspect.utils import get_project_root\n",
    "> \n",
    "> # FutureWarning: Given feature/column names or counts do not match the ones for the data given during fit\n",
    "> warnings.filterwarnings('ignore')\n",
    "> \n",
    "> COUNTIES_OF_INTEREST = ['county2', 'county3']\n",
    "> \n",
    "> # load input data sources (data generated with https://www.mockaroo.com as a single file and then split into two)\n",
    "> patients = pd.read_csv(os.path.join(str(get_project_root()), \"example_pipelines\", \"healthcare\",\n",
    ">                                     \"healthcare_patients.csv\"), na_values='?')\n",
    "> histories = pd.read_csv(os.path.join(str(get_project_root()), \"example_pipelines\", \"healthcare\",\n",
    ">                                      \"healthcare_histories.csv\"), na_values='?')\n",
    "> \n",
    "> # combine input data into a single table\n",
    "> data = patients.merge(histories, on=['ssn'])\n",
    "> \n",
    "> # compute mean complications per age group, append as column\n",
    "> complications = data.groupby('age_group').agg(mean_complications=('complications', 'mean'))\n",
    "> \n",
    "> data = data.merge(complications, on=['age_group'])\n",
    "> \n",
    "> # target variable: people with a high number of complications\n",
    "> data['label'] = data['complications'] > 1.2 * data['mean_complications']\n",
    "> \n",
    "> # project data to a subset of attributes\n",
    "> data = data[['smoker', 'last_name', 'county', 'num_children', 'race', 'income', 'label']]\n",
    "> \n",
    "> # filter data\n",
    "> data = data[data['county'].isin(COUNTIES_OF_INTEREST)]\n",
    "> \n",
    "> # define the feature encoding of the data\n",
    "> impute_and_one_hot_encode = Pipeline([\n",
    ">         ('impute', SimpleImputer(strategy='most_frequent')),\n",
    ">         ('encode', OneHotEncoder(sparse=False, handle_unknown='ignore'))\n",
    ">     ])\n",
    "> \n",
    "> featurisation = ColumnTransformer(transformers=[\n",
    ">     (\"impute_and_one_hot_encode\", impute_and_one_hot_encode, ['smoker', 'county', 'race']),\n",
    ">     ('word2vec', MyW2VTransformer(min_count=2), ['last_name']),\n",
    ">     ('numeric', StandardScaler(), ['num_children', 'income'])\n",
    "> ])\n",
    "> \n",
    "> # define the training pipeline for the model\n",
    "> neural_net = KerasClassifier(build_fn=create_model, epochs=10, batch_size=1, verbose=0, input_dim=109)\n",
    "> pipeline = Pipeline([\n",
    ">     ('features', featurisation),\n",
    ">     ('learner', neural_net)])\n",
    "> \n",
    "> # train-test split\n",
    "> train_data, test_data = train_test_split(data, random_state=0)\n",
    "> # model training\n",
    "model = pipeline.fit(train_data, train_data['label'])\n",
    "> # model evaluation\n",
    "> # this is running on synthetic random data, so there is nothing meaningful to learn in this example pipeline\n",
    "> print(model.score(test_data, test_data['label']))\n",
    "> ```"
   ]
  },
  {
   "cell_type": "markdown",
   "metadata": {},
   "source": [
    "# Step 1/4: Add check and execute the pipeline\n",
    "\n",
    "The central entry point of mlinspect is the `PipelineInspector`. To use mlinspect, we use it and pass it the path to the runnable version of the example pipeline. Here, we have the example pipeline in a `.py` file. \n",
    "\n",
    "First, we define the check we want mlinspect to run. In this example, we only use `NoBiasIntroducedFor([\"col1\", \"col2\", ...])` to automatically check for significant changes in the distribution of sensitive demograhpic groups and compute the histograms.\n",
    "\n",
    "Then, we execute the pipeline. Mlinspect returns a `InspectorResult`, which, among other information, contains the output of our check. "
   ]
  },
  {
   "cell_type": "code",
   "execution_count": 1,
   "metadata": {},
   "outputs": [
    {
     "name": "stdout",
     "output_type": "stream",
     "text": [
      "Mean accuracy: 0.9178082346916199\n"
     ]
    }
   ],
   "source": [
    "import os\n",
    "from mlinspect.utils import get_project_root\n",
    "\n",
    "from mlinspect import PipelineInspector\n",
    "from mlinspect.checks import NoBiasIntroducedFor\n",
    "\n",
    "HEALTHCARE_FILE_PY = os.path.join(str(get_project_root()), \"example_pipelines\", \"healthcare\", \"healthcare.py\")\n",
    "\n",
    "inspector_result = PipelineInspector\\\n",
    "    .on_pipeline_from_py_file(HEALTHCARE_FILE_PY) \\\n",
    "    .add_check(NoBiasIntroducedFor([\"age_group\", \"race\"])) \\\n",
    "    .execute()\n",
    "\n",
    "check_results = inspector_result.check_to_check_results"
   ]
  },
  {
   "cell_type": "markdown",
   "metadata": {},
   "source": [
    "# Step 2/4: Overview of the check results\n",
    "## Did our check find issues?\n",
    "\n",
    "Let us look at the `check_result` to see our some check failed. We do this using the mlinspect utlity function `check_results_as_data_frame(...)`. We see that an issue was found, so we have to investigate it."
   ]
  },
  {
   "cell_type": "code",
   "execution_count": 2,
   "metadata": {},
   "outputs": [
    {
     "data": {
      "text/html": [
       "<div>\n",
       "<style scoped>\n",
       "    .dataframe tbody tr th:only-of-type {\n",
       "        vertical-align: middle;\n",
       "    }\n",
       "\n",
       "    .dataframe tbody tr th {\n",
       "        vertical-align: top;\n",
       "    }\n",
       "\n",
       "    .dataframe thead th {\n",
       "        text-align: right;\n",
       "    }\n",
       "</style>\n",
       "<table border=\"1\" class=\"dataframe\">\n",
       "  <thead>\n",
       "    <tr style=\"text-align: right;\">\n",
       "      <th></th>\n",
       "      <th>check_name</th>\n",
       "      <th>status</th>\n",
       "      <th>description</th>\n",
       "    </tr>\n",
       "  </thead>\n",
       "  <tbody>\n",
       "    <tr>\n",
       "      <th>0</th>\n",
       "      <td>NoBiasIntroducedFor((('age_group', 'race'), -0.3))</td>\n",
       "      <td>CheckStatus.FAILURE</td>\n",
       "      <td>A Selection causes a min_relative_ratio_change of 'race' by -0.5678035982008997, a value below the configured minimum threshold -0.3!</td>\n",
       "    </tr>\n",
       "  </tbody>\n",
       "</table>\n",
       "</div>"
      ],
      "text/plain": [
       "                                           check_name               status  \\\n",
       "0  NoBiasIntroducedFor((('age_group', 'race'), -0.3))  CheckStatus.FAILURE   \n",
       "\n",
       "                                                                                                                             description  \n",
       "0  A Selection causes a min_relative_ratio_change of 'race' by -0.5678035982008997, a value below the configured minimum threshold -0.3!  "
      ]
     },
     "metadata": {},
     "output_type": "display_data"
    }
   ],
   "source": [
    "from IPython.display import display\n",
    "import pandas as pd\n",
    "pd.set_option('display.max_colwidth', None)\n",
    "\n",
    "check_result_df = PipelineInspector.check_results_as_data_frame(check_results)\n",
    "display(check_result_df)"
   ]
  },
  {
   "cell_type": "markdown",
   "metadata": {},
   "source": [
    "# Step 3/4: List of operations that could change the distribution \n",
    "\n",
    "As stated before, only some operations like selections, joins and missing value imputation can change the distribution. Our check already filtered all operators that can cause data distribution issues. We can use the mlinspect utility function `get_distribution_changes_overview_as_df(...)` to get an overview. The overview already tells us that mlinspect detected a potential issue caused by a selection involving the race attribute. Note that the automatic issue detection from mlinspect is only as good as its configuration and should not be completely relied upon."
   ]
  },
  {
   "cell_type": "code",
   "execution_count": 3,
   "metadata": {},
   "outputs": [
    {
     "data": {
      "text/html": [
       "<div>\n",
       "<style scoped>\n",
       "    .dataframe tbody tr th:only-of-type {\n",
       "        vertical-align: middle;\n",
       "    }\n",
       "\n",
       "    .dataframe tbody tr th {\n",
       "        vertical-align: top;\n",
       "    }\n",
       "\n",
       "    .dataframe thead th {\n",
       "        text-align: right;\n",
       "    }\n",
       "</style>\n",
       "<table border=\"1\" class=\"dataframe\">\n",
       "  <thead>\n",
       "    <tr style=\"text-align: right;\">\n",
       "      <th></th>\n",
       "      <th>operator_type</th>\n",
       "      <th>description</th>\n",
       "      <th>code_reference</th>\n",
       "      <th>source_code</th>\n",
       "      <th>module</th>\n",
       "      <th>'age_group' distribution change below the configured minimum test threshold</th>\n",
       "      <th>'race' distribution change below the configured minimum test threshold</th>\n",
       "    </tr>\n",
       "  </thead>\n",
       "  <tbody>\n",
       "    <tr>\n",
       "      <th>0</th>\n",
       "      <td>OperatorType.JOIN</td>\n",
       "      <td>on '['ssn']'</td>\n",
       "      <td>CodeReference(lineno=25, col_offset=7, end_lineno=25, end_col_offset=44)</td>\n",
       "      <td>patients.merge(histories, on=['ssn'])</td>\n",
       "      <td>FunctionInfo(module='pandas.core.frame', function_name='merge')</td>\n",
       "      <td>False</td>\n",
       "      <td>False</td>\n",
       "    </tr>\n",
       "    <tr>\n",
       "      <th>1</th>\n",
       "      <td>OperatorType.JOIN</td>\n",
       "      <td>on '['age_group']'</td>\n",
       "      <td>CodeReference(lineno=28, col_offset=7, end_lineno=28, end_col_offset=50)</td>\n",
       "      <td>data.merge(complications, on=['age_group'])</td>\n",
       "      <td>FunctionInfo(module='pandas.core.frame', function_name='merge')</td>\n",
       "      <td>False</td>\n",
       "      <td>False</td>\n",
       "    </tr>\n",
       "    <tr>\n",
       "      <th>2</th>\n",
       "      <td>OperatorType.SELECTION</td>\n",
       "      <td>Select by Series: data[data['county'].isin(COUNTIES_OF_INTEREST)]</td>\n",
       "      <td>CodeReference(lineno=31, col_offset=7, end_lineno=31, end_col_offset=54)</td>\n",
       "      <td>data[data['county'].isin(COUNTIES_OF_INTEREST)]</td>\n",
       "      <td>FunctionInfo(module='pandas.core.frame', function_name='__getitem__')</td>\n",
       "      <td>False</td>\n",
       "      <td>True</td>\n",
       "    </tr>\n",
       "    <tr>\n",
       "      <th>3</th>\n",
       "      <td>OperatorType.TRANSFORMER</td>\n",
       "      <td>Simple Imputer</td>\n",
       "      <td>CodeReference(lineno=34, col_offset=15, end_lineno=34, end_col_offset=54)</td>\n",
       "      <td>SimpleImputer(strategy='most_frequent')</td>\n",
       "      <td>FunctionInfo(module='sklearn.impute._base', function_name='SimpleImputer')</td>\n",
       "      <td>False</td>\n",
       "      <td>False</td>\n",
       "    </tr>\n",
       "  </tbody>\n",
       "</table>\n",
       "</div>"
      ],
      "text/plain": [
       "              operator_type  \\\n",
       "0         OperatorType.JOIN   \n",
       "1         OperatorType.JOIN   \n",
       "2    OperatorType.SELECTION   \n",
       "3  OperatorType.TRANSFORMER   \n",
       "\n",
       "                                                         description  \\\n",
       "0                                                       on '['ssn']'   \n",
       "1                                                 on '['age_group']'   \n",
       "2  Select by Series: data[data['county'].isin(COUNTIES_OF_INTEREST)]   \n",
       "3                                                     Simple Imputer   \n",
       "\n",
       "                                                              code_reference  \\\n",
       "0   CodeReference(lineno=25, col_offset=7, end_lineno=25, end_col_offset=44)   \n",
       "1   CodeReference(lineno=28, col_offset=7, end_lineno=28, end_col_offset=50)   \n",
       "2   CodeReference(lineno=31, col_offset=7, end_lineno=31, end_col_offset=54)   \n",
       "3  CodeReference(lineno=34, col_offset=15, end_lineno=34, end_col_offset=54)   \n",
       "\n",
       "                                       source_code  \\\n",
       "0            patients.merge(histories, on=['ssn'])   \n",
       "1      data.merge(complications, on=['age_group'])   \n",
       "2  data[data['county'].isin(COUNTIES_OF_INTEREST)]   \n",
       "3          SimpleImputer(strategy='most_frequent')   \n",
       "\n",
       "                                                                       module  \\\n",
       "0             FunctionInfo(module='pandas.core.frame', function_name='merge')   \n",
       "1             FunctionInfo(module='pandas.core.frame', function_name='merge')   \n",
       "2       FunctionInfo(module='pandas.core.frame', function_name='__getitem__')   \n",
       "3  FunctionInfo(module='sklearn.impute._base', function_name='SimpleImputer')   \n",
       "\n",
       "   'age_group' distribution change below the configured minimum test threshold  \\\n",
       "0                                                                        False   \n",
       "1                                                                        False   \n",
       "2                                                                        False   \n",
       "3                                                                        False   \n",
       "\n",
       "   'race' distribution change below the configured minimum test threshold  \n",
       "0                                                                   False  \n",
       "1                                                                   False  \n",
       "2                                                                    True  \n",
       "3                                                                   False  "
      ]
     },
     "metadata": {},
     "output_type": "display_data"
    }
   ],
   "source": [
    "no_bias_check_result = check_results[NoBiasIntroducedFor(['age_group', 'race'])]\n",
    "\n",
    "distribution_changes_overview_df = NoBiasIntroducedFor.get_distribution_changes_overview_as_df(no_bias_check_result)\n",
    "display(distribution_changes_overview_df)\n",
    "\n",
    "dag_node_distribution_changes_list = list(no_bias_check_result.bias_distribution_change.items())"
   ]
  },
  {
   "cell_type": "markdown",
   "metadata": {},
   "source": [
    "# Step 4/4 Detailed Investigation\n",
    "\n",
    "Now that we know of the potential issue, we will take a look at the histograms before and after the JOIN. We can use `distribution_change.before_and_after_df` to look at the data in form of a `pandas.DataFrame` or use the mlinspect utility function `plot_distribution_change_histograms(...)` to plot the histograms. "
   ]
  },
  {
   "cell_type": "code",
   "execution_count": 4,
   "metadata": {},
   "outputs": [
    {
     "name": "stdout",
     "output_type": "stream",
     "text": [
      "\u001b[1mOperatorType.SELECTION: data[data['county'].isin(COUNTIES_OF_INTEREST)]\u001b[0m\n",
      "\n",
      "\u001b[1m Column 'age_group'\u001b[0m, acceptable change: True, min_relative_ratio_change: -0.016871921182266037\n"
     ]
    },
    {
     "data": {
      "text/html": [
       "<div>\n",
       "<style scoped>\n",
       "    .dataframe tbody tr th:only-of-type {\n",
       "        vertical-align: middle;\n",
       "    }\n",
       "\n",
       "    .dataframe tbody tr th {\n",
       "        vertical-align: top;\n",
       "    }\n",
       "\n",
       "    .dataframe thead th {\n",
       "        text-align: right;\n",
       "    }\n",
       "</style>\n",
       "<table border=\"1\" class=\"dataframe\">\n",
       "  <thead>\n",
       "    <tr style=\"text-align: right;\">\n",
       "      <th></th>\n",
       "      <th>sensitive_column_value</th>\n",
       "      <th>count_before</th>\n",
       "      <th>count_after</th>\n",
       "      <th>ratio_before</th>\n",
       "      <th>ratio_after</th>\n",
       "      <th>relative_ratio_change</th>\n",
       "    </tr>\n",
       "  </thead>\n",
       "  <tbody>\n",
       "    <tr>\n",
       "      <th>0</th>\n",
       "      <td>group1</td>\n",
       "      <td>281</td>\n",
       "      <td>92</td>\n",
       "      <td>0.316798</td>\n",
       "      <td>0.317241</td>\n",
       "      <td>0.001399</td>\n",
       "    </tr>\n",
       "    <tr>\n",
       "      <th>1</th>\n",
       "      <td>group2</td>\n",
       "      <td>298</td>\n",
       "      <td>99</td>\n",
       "      <td>0.335964</td>\n",
       "      <td>0.341379</td>\n",
       "      <td>0.016119</td>\n",
       "    </tr>\n",
       "    <tr>\n",
       "      <th>2</th>\n",
       "      <td>group3</td>\n",
       "      <td>308</td>\n",
       "      <td>99</td>\n",
       "      <td>0.347238</td>\n",
       "      <td>0.341379</td>\n",
       "      <td>-0.016872</td>\n",
       "    </tr>\n",
       "  </tbody>\n",
       "</table>\n",
       "</div>"
      ],
      "text/plain": [
       "  sensitive_column_value  count_before  count_after  ratio_before  \\\n",
       "0                 group1           281           92      0.316798   \n",
       "1                 group2           298           99      0.335964   \n",
       "2                 group3           308           99      0.347238   \n",
       "\n",
       "   ratio_after  relative_ratio_change  \n",
       "0     0.317241               0.001399  \n",
       "1     0.341379               0.016119  \n",
       "2     0.341379              -0.016872  "
      ]
     },
     "metadata": {},
     "output_type": "display_data"
    },
    {
     "data": {
      "image/png": "[encoded data removed]",
      "text/plain": [
       "<Figure size 864x288 with 2 Axes>"
      ]
     },
     "metadata": {
      "needs_background": "light"
     },
     "output_type": "display_data"
    },
    {
     "name": "stdout",
     "output_type": "stream",
     "text": [
      "\n",
      "\u001b[1m Column 'race'\u001b[0m, acceptable change: False, min_relative_ratio_change: -0.5678035982008997\n"
     ]
    },
    {
     "data": {
      "text/html": [
       "<div>\n",
       "<style scoped>\n",
       "    .dataframe tbody tr th:only-of-type {\n",
       "        vertical-align: middle;\n",
       "    }\n",
       "\n",
       "    .dataframe tbody tr th {\n",
       "        vertical-align: top;\n",
       "    }\n",
       "\n",
       "    .dataframe thead th {\n",
       "        text-align: right;\n",
       "    }\n",
       "</style>\n",
       "<table border=\"1\" class=\"dataframe\">\n",
       "  <thead>\n",
       "    <tr style=\"text-align: right;\">\n",
       "      <th></th>\n",
       "      <th>sensitive_column_value</th>\n",
       "      <th>count_before</th>\n",
       "      <th>count_after</th>\n",
       "      <th>ratio_before</th>\n",
       "      <th>ratio_after</th>\n",
       "      <th>relative_ratio_change</th>\n",
       "    </tr>\n",
       "  </thead>\n",
       "  <tbody>\n",
       "    <tr>\n",
       "      <th>0</th>\n",
       "      <td>race1</td>\n",
       "      <td>284</td>\n",
       "      <td>117</td>\n",
       "      <td>0.320180</td>\n",
       "      <td>0.403448</td>\n",
       "      <td>0.260066</td>\n",
       "    </tr>\n",
       "    <tr>\n",
       "      <th>1</th>\n",
       "      <td>race2</td>\n",
       "      <td>232</td>\n",
       "      <td>100</td>\n",
       "      <td>0.261556</td>\n",
       "      <td>0.344828</td>\n",
       "      <td>0.318371</td>\n",
       "    </tr>\n",
       "    <tr>\n",
       "      <th>2</th>\n",
       "      <td>race3</td>\n",
       "      <td>276</td>\n",
       "      <td>39</td>\n",
       "      <td>0.311161</td>\n",
       "      <td>0.134483</td>\n",
       "      <td>-0.567804</td>\n",
       "    </tr>\n",
       "    <tr>\n",
       "      <th>3</th>\n",
       "      <td>NaN</td>\n",
       "      <td>95</td>\n",
       "      <td>34</td>\n",
       "      <td>0.107103</td>\n",
       "      <td>0.117241</td>\n",
       "      <td>0.094664</td>\n",
       "    </tr>\n",
       "  </tbody>\n",
       "</table>\n",
       "</div>"
      ],
      "text/plain": [
       "  sensitive_column_value  count_before  count_after  ratio_before  \\\n",
       "0                  race1           284          117      0.320180   \n",
       "1                  race2           232          100      0.261556   \n",
       "2                  race3           276           39      0.311161   \n",
       "3                    NaN            95           34      0.107103   \n",
       "\n",
       "   ratio_after  relative_ratio_change  \n",
       "0     0.403448               0.260066  \n",
       "1     0.344828               0.318371  \n",
       "2     0.134483              -0.567804  \n",
       "3     0.117241               0.094664  "
      ]
     },
     "metadata": {},
     "output_type": "display_data"
    },
    {
     "data": {
      "image/png": "[encoded data removed]",
      "text/plain": [
       "<Figure size 864x288 with 2 Axes>"
      ]
     },
     "metadata": {
      "needs_background": "light"
     },
     "output_type": "display_data"
    }
   ],
   "source": [
    "# Select the DagNode we want to look at by index\n",
    "dag_node, distribution_changes = dag_node_distribution_changes_list[2]\n",
    "\n",
    "# Investige the changes\n",
    "print(\"\\033[1m{}: {}\\033[0m\".format(dag_node.operator_info.operator, dag_node.optional_code_info.source_code))\n",
    "for column, distribution_change in distribution_changes.items():\n",
    "    print(\"\")\n",
    "    print(\"\\033[1m Column '{}'\\033[0m, acceptable change: {}, min_relative_ratio_change: {}\".format(column, distribution_change.acceptable_change, distribution_change.min_relative_ratio_change))\n",
    "    display(distribution_change.before_and_after_df)\n",
    "    NoBiasIntroducedFor.plot_distribution_change_histograms(distribution_change)"
   ]
  },
  {
   "cell_type": "markdown",
   "metadata": {},
   "source": [
    "# Your answer: Did we find operators that introduce bias? How did the distribution of demographic groups change?"
   ]
  },
  {
   "cell_type": "markdown",
   "metadata": {},
   "source": [
    "**My anser:** The selection filters out more than 56% of the data points with `race=race3`. The selection is a filter by `county`, so it could be that there is a correlation between `race` and `county` that causes this."
   ]
  },
  {
   "cell_type": "code",
   "execution_count": null,
   "metadata": {},
   "outputs": [],
   "source": []
  }
 ],
 "metadata": {
  "kernelspec": {
   "display_name": "Python 3",
   "language": "python",
   "name": "python3"
  },
  "language_info": {
   "codemirror_mode": {
    "name": "ipython",
    "version": 3
   },
   "file_extension": ".py",
   "mimetype": "text/x-python",
   "name": "python",
   "nbconvert_exporter": "python",
   "pygments_lexer": "ipython3",
   "version": "3.9.2"
  }
 },
 "nbformat": 4,
 "nbformat_minor": 4
}
