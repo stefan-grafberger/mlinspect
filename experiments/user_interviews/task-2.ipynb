{
 "cells": [
  {
   "cell_type": "markdown",
   "metadata": {},
   "source": [
    "# Task\n",
    "\n",
    "Operators like joins, selections and missing value imputaters can cause *data distribution issues*, which can heavily impact the performance of our model for specific demographic groups. Mlinspect helps with identifying such issues by offering a check that calculates histograms for sensitive groups in the data and verifying whether the histogram change is significant enough to alert the user. Thanks to our annotation propagation, we can deal with complex code involving things like nested sklearn pipelines and group memberships that are removed from the training data using projections.\n",
    "\n",
    "We want to find out if preprocessing operations in pipelines introduce bias and if so, which groups are effected.\n",
    "The pipeline we want to analyse in this task can be found using the path `os.path.join(str(get_project_root()), \"example_pipelines\", \"healthcare\", \"healthcare.py\")`. The senstive attributes we want to take a look at are `age_group` and `race`. \n",
    "\n",
    "It this task, we use a pipeline we created using synthetic data.\n",
    "\n",
    "The code of the pipeline:\n",
    "\n",
    "> ```python\n",
    "> \"\"\"\n",
    "> An example pipeline\n",
    "> \"\"\"\n",
    "> import os\n",
    "> import warnings\n",
    "> \n",
    "> import pandas as pd\n",
    "> from sklearn.compose import ColumnTransformer\n",
    "> from sklearn.impute import SimpleImputer\n",
    "> > from sklearn.model_selection import train_test_split\n",
    "> from sklearn.pipeline import Pipeline\n",
    "> from sklearn.preprocessing import OneHotEncoder, StandardScaler\n",
    "> from tensorflow.keras.wrappers.scikit_learn import KerasClassifier\n",
    "> from example_pipelines.healthcare.healthcare_utils import MyW2VTransformer, create_model\n",
    "> from mlinspect.utils import get_project_root\n",
    "> \n",
    "> # FutureWarning: Given feature/column names or counts do not match the ones for the data given during fit\n",
    "> warnings.filterwarnings('ignore')\n",
    "> \n",
    "> COUNTIES_OF_INTEREST = ['county2', 'county3']\n",
    "> \n",
    "> # load input data sources (data generated with https://www.mockaroo.com as a single file and then split into two)\n",
    "> patients = pd.read_csv(os.path.join(str(get_project_root()), \"example_pipelines\", \"healthcare\",\n",
    ">                                     \"healthcare_patients.csv\"), na_values='?')\n",
    "> histories = pd.read_csv(os.path.join(str(get_project_root()), \"example_pipelines\", \"healthcare\",\n",
    ">                                      \"healthcare_histories.csv\"), na_values='?')\n",
    "> \n",
    "> # combine input data into a single table\n",
    "> data = patients.merge(histories, on=['ssn'])\n",
    "> \n",
    "> # compute mean complications per age group, append as column\n",
    "> complications = data.groupby('age_group').agg(mean_complications=('complications', 'mean'))\n",
    "> \n",
    "> data = data.merge(complications, on=['age_group'])\n",
    "> \n",
    "> # target variable: people with a high number of complications\n",
    "> data['label'] = data['complications'] > 1.2 * data['mean_complications']\n",
    "> \n",
    "> # project data to a subset of attributes\n",
    "> data = data[['smoker', 'last_name', 'county', 'num_children', 'race', 'income', 'label']]\n",
    "> \n",
    "> # filter data\n",
    "> data = data[data['county'].isin(COUNTIES_OF_INTEREST)]\n",
    "> \n",
    "> # define the feature encoding of the data\n",
    "> impute_and_one_hot_encode = Pipeline([\n",
    ">         ('impute', SimpleImputer(strategy='most_frequent')),\n",
    ">         ('encode', OneHotEncoder(sparse=False, handle_unknown='ignore'))\n",
    ">     ])\n",
    "> \n",
    "> featurisation = ColumnTransformer(transformers=[\n",
    ">     (\"impute_and_one_hot_encode\", impute_and_one_hot_encode, ['smoker', 'county', 'race']),\n",
    ">     ('word2vec', MyW2VTransformer(min_count=2), ['last_name']),\n",
    ">     ('numeric', StandardScaler(), ['num_children', 'income'])\n",
    "> ])\n",
    "> \n",
    "> # define the training pipeline for the model\n",
    "> neural_net = KerasClassifier(build_fn=create_model, epochs=10, batch_size=1, verbose=0, input_dim=109)\n",
    "> pipeline = Pipeline([\n",
    ">     ('features', featurisation),\n",
    ">     ('learner', neural_net)])\n",
    "> \n",
    "> # train-test split\n",
    "> train_data, test_data = train_test_split(data, random_state=0)\n",
    "> # model training\n",
    "model = pipeline.fit(train_data, train_data['label'])\n",
    "> # model evaluation\n",
    "> # this is running on synthetic random data, so there is nothing meaningful to learn in this example pipeline\n",
    "> print(model.score(test_data, test_data['label']))\n",
    "> ```"
   ]
  },
  {
   "cell_type": "code",
   "execution_count": 1,
   "metadata": {},
   "outputs": [],
   "source": [
    "import os\n",
    "from mlinspect.utils import get_project_root\n",
    "\n",
    "HEALTHCARE_FILE_PY = os.path.join(str(get_project_root()), \"example_pipelines\", \"healthcare\", \"healthcare.py\")\n",
    "\n",
    "# TODO"
   ]
  },
  {
   "cell_type": "code",
   "execution_count": null,
   "metadata": {},
   "outputs": [],
   "source": []
  },
  {
   "cell_type": "code",
   "execution_count": null,
   "metadata": {},
   "outputs": [],
   "source": []
  },
  {
   "cell_type": "code",
   "execution_count": null,
   "metadata": {},
   "outputs": [],
   "source": []
  },
  {
   "cell_type": "markdown",
   "metadata": {},
   "source": [
    "# Your answer: Did we find operators that introduce bias? How did the distribution of demographic groups change?"
   ]
  },
  {
   "cell_type": "markdown",
   "metadata": {},
   "source": [
    "**My anser:** TODO"
   ]
  },
  {
   "cell_type": "code",
   "execution_count": null,
   "metadata": {},
   "outputs": [],
   "source": []
  }
 ],
 "metadata": {
  "kernelspec": {
   "display_name": "Python 3",
   "language": "python",
   "name": "python3"
  },
  "language_info": {
   "codemirror_mode": {
    "name": "ipython",
    "version": 3
   },
   "file_extension": ".py",
   "mimetype": "text/x-python",
   "name": "python",
   "nbconvert_exporter": "python",
   "pygments_lexer": "ipython3",
   "version": "3.9.2"
  }
 },
 "nbformat": 4,
 "nbformat_minor": 4
}
