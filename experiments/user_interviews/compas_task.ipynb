{
 "cells": [
  {
   "cell_type": "markdown",
   "metadata": {},
   "source": [
    "# Task\n",
    "\n",
    "Operators like joins, selections and missing value imputaters can cause *data distribution issues*, which can heavily impact the performance of our model. Mlinspect helps with identifying such issues by offering an inspection to calculate historams for sensitive groups. Thanks to our annotation propagation, this works even if the group columns are projected out at some point. To automatically check for significant changes and compute the histograms, we used the `no_bias_introduced_for(...)` constraint.\n",
    "\n",
    "We want to find out if preprocessing operations in this pipeline introduce bias and if so, which groups are effected.\n",
    "The pipeline we want to analyse can be found using the path `os.path.join(str(get_project_root()), \"example_pipelines\", \"compas\", \"compas.py\")`. Its code:\n",
    "\n",
    "> ```python\n",
    "> \"\"\"\n",
    "> An example pipeline\n",
    "> \"\"\"\n",
    "> import os\n",
    "> \n",
    "> import pandas as pd\n",
    "> from sklearn.compose import ColumnTransformer\n",
    "> from sklearn.impute import SimpleImputer\n",
    "> from sklearn.linear_model import LogisticRegression\n",
    "> from sklearn.pipeline import Pipeline\n",
    "> from sklearn.preprocessing import OneHotEncoder, KBinsDiscretizer, label_binarize\n",
    "> \n",
    "> from mlinspect.utils import get_project_root\n",
    "> \n",
    "> train_file = os.path.join(str(get_project_root()), \"example_pipelines\", \"compas\", \"compas_train.csv\")\n",
    "> train_data = pd.read_csv(train_file, na_values='?', index_col=0)\n",
    "> test_file = os.path.join(str(get_project_root()), \"example_pipelines\", \"compas\", \"compas_test.csv\")\n",
    "> test_data = pd.read_csv(test_file, na_values='?', index_col=0)\n",
    "> \n",
    "> train_data = train_data[\n",
    ">     ['sex', 'dob', 'age', 'c_charge_degree', 'race', 'score_text', 'priors_count', 'days_b_screening_arrest',\n",
    ">      'decile_score', 'is_recid', 'two_year_recid', 'c_jail_in', 'c_jail_out']]\n",
    "> test_data = test_data[\n",
    ">     ['sex', 'dob', 'age', 'c_charge_degree', 'race', 'score_text', 'priors_count', 'days_b_screening_arrest',\n",
    ">      'decile_score', 'is_recid', 'two_year_recid', 'c_jail_in', 'c_jail_out']]\n",
    "> \n",
    "> train_data = train_data[(train_data['days_b_screening_arrest'] <= 30) & (train_data['days_b_screening_arrest'] >= -30)]\n",
    "> train_data = train_data[train_data['is_recid'] != -1]\n",
    "> train_data = train_data[train_data['c_charge_degree'] != \"O\"]\n",
    "> train_data = train_data[train_data['score_text'] != 'N/A']\n",
    "> \n",
    "> train_data = train_data.replace('Medium', \"Low\")\n",
    "> test_data = test_data.replace('Medium', \"Low\")\n",
    "> \n",
    "> train_labels = label_binarize(train_data['score_text'], classes=['High', 'Low'])\n",
    "> test_labels = label_binarize(test_data['score_text'], classes=['High', 'Low'])\n",
    "> \n",
    "> impute1_and_onehot = Pipeline([('imputer1', SimpleImputer(strategy='most_frequent')),\n",
    ">                                ('onehot', OneHotEncoder(handle_unknown='ignore'))])\n",
    "> impute2_and_bin = Pipeline([('imputer2', SimpleImputer(strategy='mean')),\n",
    ">                             ('discretizer', KBinsDiscretizer(n_bins=4, encode='ordinal', strategy='uniform'))])\n",
    "> \n",
    "> featurizer = ColumnTransformer(transformers=[\n",
    ">     ('impute1_and_onehot', impute1_and_onehot, ['is_recid']),\n",
    ">     ('impute2_and_bin', impute2_and_bin, ['age'])\n",
    "> ])\n",
    "> \n",
    "> pipeline = Pipeline([\n",
    ">     ('features', featurizer),\n",
    ">     ('classifier', LogisticRegression())\n",
    "> ])\n",
    "> \n",
    "> pipeline.fit(train_data, train_labels.ravel())\n",
    "> print(pipeline.score(test_data, test_labels.ravel()))\n",
    "> \n",
    "> ```\n",
    "\n",
    "The COMPAS dataset contains information about 6,889 criminal defendants in Broward County, FL, along with pre- dictions of their recidivism risk, as produced by a commercial tool called COMPAS. The sensitive attributes include gender and race. The task is to predict whether a defendant is likely re-offend. "
   ]
  },
  {
   "cell_type": "markdown",
   "metadata": {},
   "source": [
    "# Step 1/4: Add check and execute the pipeline\n",
    "\n",
    "The central entry point of mlinspect is the `PipelineInspector`. To use mlinspect, we use it and pass it the path to the runnable version of the example pipeline. Here, we have the example pipeline in a `.py` file. \n",
    "\n",
    "First, we define the check we want mlinspect to run. In this example, we only use 1 check to compute histograms of sensitive groups and verify operators cause no significant distribution changes.\n",
    "\n",
    "Then, we execute the pipeline. Mlinspect returns a `InspectorResult`, which contains the output of our check. "
   ]
  },
  {
   "cell_type": "code",
   "execution_count": 1,
   "metadata": {},
   "outputs": [
    {
     "name": "stdout",
     "output_type": "stream",
     "text": [
      "0.8078521939953811\n"
     ]
    }
   ],
   "source": [
    "import os\n",
    "from mlinspect.utils import get_project_root\n",
    "\n",
    "from mlinspect import PipelineInspector\n",
    "from mlinspect.checks import NoBiasIntroducedFor\n",
    "\n",
    "HEALTHCARE_FILE_PY = os.path.join(str(get_project_root()), \"example_pipelines\", \"compas\", \"compas.py\")\n",
    "\n",
    "inspector_result = PipelineInspector\\\n",
    "    .on_pipeline_from_py_file(HEALTHCARE_FILE_PY) \\\n",
    "    .add_check(NoBiasIntroducedFor(['sex', 'race'])) \\\n",
    "    .execute()\n",
    "\n",
    "check_results = inspector_result.check_to_check_results"
   ]
  },
  {
   "cell_type": "markdown",
   "metadata": {},
   "source": [
    "# Step 2/4: Overview of the check results\n",
    "## Did our check find issues?\n",
    "\n",
    "Let us look at the `check_result` to see whether some checks failed. We see that some issue was found, so we have to investigate it."
   ]
  },
  {
   "cell_type": "code",
   "execution_count": 2,
   "metadata": {},
   "outputs": [
    {
     "data": {
      "text/html": [
       "<div>\n",
       "<style scoped>\n",
       "    .dataframe tbody tr th:only-of-type {\n",
       "        vertical-align: middle;\n",
       "    }\n",
       "\n",
       "    .dataframe tbody tr th {\n",
       "        vertical-align: top;\n",
       "    }\n",
       "\n",
       "    .dataframe thead th {\n",
       "        text-align: right;\n",
       "    }\n",
       "</style>\n",
       "<table border=\"1\" class=\"dataframe\">\n",
       "  <thead>\n",
       "    <tr style=\"text-align: right;\">\n",
       "      <th></th>\n",
       "      <th>check_name</th>\n",
       "      <th>status</th>\n",
       "      <th>description</th>\n",
       "    </tr>\n",
       "  </thead>\n",
       "  <tbody>\n",
       "    <tr>\n",
       "      <th>0</th>\n",
       "      <td>NoBiasIntroducedFor((('sex', 'race'), -0.3))</td>\n",
       "      <td>CheckStatus.FAILURE</td>\n",
       "      <td>A Selection causes a min_relative_ratio_change of 'race' by -0.33167874516032964, a value below the configured minimum threshold -0.3!</td>\n",
       "    </tr>\n",
       "  </tbody>\n",
       "</table>\n",
       "</div>"
      ],
      "text/plain": [
       "                                     check_name               status  \\\n",
       "0  NoBiasIntroducedFor((('sex', 'race'), -0.3))  CheckStatus.FAILURE   \n",
       "\n",
       "                                                                                                                              description  \n",
       "0  A Selection causes a min_relative_ratio_change of 'race' by -0.33167874516032964, a value below the configured minimum threshold -0.3!  "
      ]
     },
     "metadata": {},
     "output_type": "display_data"
    }
   ],
   "source": [
    "from IPython.display import display\n",
    "import pandas as pd\n",
    "pd.set_option('display.max_colwidth', None)\n",
    "\n",
    "check_result_df = PipelineInspector.check_results_as_data_frame(check_results)\n",
    "display(check_result_df)"
   ]
  },
  {
   "cell_type": "markdown",
   "metadata": {},
   "source": [
    "# Step 3/4: List of operations that could change the distribution \n",
    "\n",
    "As stated before, only some operations like selections, joins and missing value imputation can change the distribution. Our check already filtered all operators that can cause data distribution issues. Now we will use the result to create list with all distribution changes and visualize them. Using this, we can investigate the changes of the different operators one at a time."
   ]
  },
  {
   "cell_type": "code",
   "execution_count": 3,
   "metadata": {},
   "outputs": [
    {
     "data": {
      "text/html": [
       "<div>\n",
       "<style scoped>\n",
       "    .dataframe tbody tr th:only-of-type {\n",
       "        vertical-align: middle;\n",
       "    }\n",
       "\n",
       "    .dataframe tbody tr th {\n",
       "        vertical-align: top;\n",
       "    }\n",
       "\n",
       "    .dataframe thead th {\n",
       "        text-align: right;\n",
       "    }\n",
       "</style>\n",
       "<table border=\"1\" class=\"dataframe\">\n",
       "  <thead>\n",
       "    <tr style=\"text-align: right;\">\n",
       "      <th></th>\n",
       "      <th>DagNode OperatorType</th>\n",
       "      <th>DagNode CodeReference</th>\n",
       "      <th>DagNode Module</th>\n",
       "      <th>DagNode Description</th>\n",
       "      <th>'sex' distribution change below the configured minimum test threshold</th>\n",
       "      <th>'race' distribution change below the configured minimum test threshold</th>\n",
       "    </tr>\n",
       "  </thead>\n",
       "  <tbody>\n",
       "    <tr>\n",
       "      <th>0</th>\n",
       "      <td>OperatorType.SELECTION</td>\n",
       "      <td>CodeReference(lineno=27, col_offset=13, end_lineno=27, end_col_offset=119)</td>\n",
       "      <td>(pandas.core.frame, __getitem__, Selection)</td>\n",
       "      <td>Select by series (indirectly using 'days_b_screening_arrest')</td>\n",
       "      <td>False</td>\n",
       "      <td>True</td>\n",
       "    </tr>\n",
       "    <tr>\n",
       "      <th>1</th>\n",
       "      <td>OperatorType.SELECTION</td>\n",
       "      <td>CodeReference(lineno=28, col_offset=13, end_lineno=28, end_col_offset=53)</td>\n",
       "      <td>(pandas.core.frame, __getitem__, Selection)</td>\n",
       "      <td>Select by series (indirectly using 'is_recid')</td>\n",
       "      <td>False</td>\n",
       "      <td>False</td>\n",
       "    </tr>\n",
       "    <tr>\n",
       "      <th>2</th>\n",
       "      <td>OperatorType.SELECTION</td>\n",
       "      <td>CodeReference(lineno=29, col_offset=13, end_lineno=29, end_col_offset=61)</td>\n",
       "      <td>(pandas.core.frame, __getitem__, Selection)</td>\n",
       "      <td>Select by series (indirectly using 'c_charge_degree')</td>\n",
       "      <td>False</td>\n",
       "      <td>False</td>\n",
       "    </tr>\n",
       "    <tr>\n",
       "      <th>3</th>\n",
       "      <td>OperatorType.SELECTION</td>\n",
       "      <td>CodeReference(lineno=30, col_offset=13, end_lineno=30, end_col_offset=58)</td>\n",
       "      <td>(pandas.core.frame, __getitem__, Selection)</td>\n",
       "      <td>Select by series (indirectly using 'score_text')</td>\n",
       "      <td>False</td>\n",
       "      <td>False</td>\n",
       "    </tr>\n",
       "  </tbody>\n",
       "</table>\n",
       "</div>"
      ],
      "text/plain": [
       "     DagNode OperatorType  \\\n",
       "0  OperatorType.SELECTION   \n",
       "1  OperatorType.SELECTION   \n",
       "2  OperatorType.SELECTION   \n",
       "3  OperatorType.SELECTION   \n",
       "\n",
       "                                                        DagNode CodeReference  \\\n",
       "0  CodeReference(lineno=27, col_offset=13, end_lineno=27, end_col_offset=119)   \n",
       "1   CodeReference(lineno=28, col_offset=13, end_lineno=28, end_col_offset=53)   \n",
       "2   CodeReference(lineno=29, col_offset=13, end_lineno=29, end_col_offset=61)   \n",
       "3   CodeReference(lineno=30, col_offset=13, end_lineno=30, end_col_offset=58)   \n",
       "\n",
       "                                DagNode Module  \\\n",
       "0  (pandas.core.frame, __getitem__, Selection)   \n",
       "1  (pandas.core.frame, __getitem__, Selection)   \n",
       "2  (pandas.core.frame, __getitem__, Selection)   \n",
       "3  (pandas.core.frame, __getitem__, Selection)   \n",
       "\n",
       "                                             DagNode Description  \\\n",
       "0  Select by series (indirectly using 'days_b_screening_arrest')   \n",
       "1                 Select by series (indirectly using 'is_recid')   \n",
       "2          Select by series (indirectly using 'c_charge_degree')   \n",
       "3               Select by series (indirectly using 'score_text')   \n",
       "\n",
       "   'sex' distribution change below the configured minimum test threshold  \\\n",
       "0                                                                  False   \n",
       "1                                                                  False   \n",
       "2                                                                  False   \n",
       "3                                                                  False   \n",
       "\n",
       "   'race' distribution change below the configured minimum test threshold  \n",
       "0                                                                    True  \n",
       "1                                                                   False  \n",
       "2                                                                   False  \n",
       "3                                                                   False  "
      ]
     },
     "metadata": {},
     "output_type": "display_data"
    }
   ],
   "source": [
    "no_bias_check_result = check_results[NoBiasIntroducedFor(['sex', 'race'])]\n",
    "\n",
    "distribution_changes_overview_df = NoBiasIntroducedFor.get_distribution_changes_overview_as_df(no_bias_check_result)\n",
    "display(distribution_changes_overview_df)\n",
    "\n",
    "dag_node_distribution_changes_list = list(no_bias_check_result.bias_distribution_change.items())"
   ]
  },
  {
   "cell_type": "markdown",
   "metadata": {},
   "source": [
    "# Step 4/4 Detailed Investigation\n",
    "\n",
    "We start by looking at the first operator that could heavily change the proportion of groups in our data, the `.dropna()` selection. Then, ..."
   ]
  },
  {
   "cell_type": "code",
   "execution_count": 4,
   "metadata": {},
   "outputs": [
    {
     "name": "stdout",
     "output_type": "stream",
     "text": [
      "\u001b[1m OperatorType.SELECTION CodeReference(lineno=27, col_offset=13, end_lineno=27, end_col_offset=119) ('pandas.core.frame', '__getitem__', 'Selection') Select by series (indirectly using 'days_b_screening_arrest') \u001b[0m\n",
      "\n",
      "\u001b[1m Column 'sex'\u001b[0m, acceptable change: True, min_relative_ratio_change: -0.00526926631466584\n"
     ]
    },
    {
     "data": {
      "text/html": [
       "<div>\n",
       "<style scoped>\n",
       "    .dataframe tbody tr th:only-of-type {\n",
       "        vertical-align: middle;\n",
       "    }\n",
       "\n",
       "    .dataframe tbody tr th {\n",
       "        vertical-align: top;\n",
       "    }\n",
       "\n",
       "    .dataframe thead th {\n",
       "        text-align: right;\n",
       "    }\n",
       "</style>\n",
       "<table border=\"1\" class=\"dataframe\">\n",
       "  <thead>\n",
       "    <tr style=\"text-align: right;\">\n",
       "      <th></th>\n",
       "      <th>sensitive_column_value</th>\n",
       "      <th>count_before</th>\n",
       "      <th>count_after</th>\n",
       "      <th>ratio_before</th>\n",
       "      <th>ratio_after</th>\n",
       "      <th>relative_ratio_change</th>\n",
       "    </tr>\n",
       "  </thead>\n",
       "  <tbody>\n",
       "    <tr>\n",
       "      <th>0</th>\n",
       "      <td>Female</td>\n",
       "      <td>970</td>\n",
       "      <td>825</td>\n",
       "      <td>0.192117</td>\n",
       "      <td>0.191105</td>\n",
       "      <td>-0.005269</td>\n",
       "    </tr>\n",
       "    <tr>\n",
       "      <th>1</th>\n",
       "      <td>Male</td>\n",
       "      <td>4079</td>\n",
       "      <td>3492</td>\n",
       "      <td>0.807883</td>\n",
       "      <td>0.808895</td>\n",
       "      <td>0.001253</td>\n",
       "    </tr>\n",
       "  </tbody>\n",
       "</table>\n",
       "</div>"
      ],
      "text/plain": [
       "  sensitive_column_value  count_before  count_after  ratio_before  \\\n",
       "0                 Female           970          825      0.192117   \n",
       "1                   Male          4079         3492      0.807883   \n",
       "\n",
       "   ratio_after  relative_ratio_change  \n",
       "0     0.191105              -0.005269  \n",
       "1     0.808895               0.001253  "
      ]
     },
     "metadata": {},
     "output_type": "display_data"
    },
    {
     "data": {
      "image/png": "[encoded data removed]",
      "text/plain": [
       "<Figure size 864x288 with 2 Axes>"
      ]
     },
     "metadata": {
      "needs_background": "light"
     },
     "output_type": "display_data"
    },
    {
     "name": "stdout",
     "output_type": "stream",
     "text": [
      "\n",
      "\u001b[1m Column 'race'\u001b[0m, acceptable change: False, min_relative_ratio_change: -0.33167874516032964\n"
     ]
    },
    {
     "data": {
      "text/html": [
       "<div>\n",
       "<style scoped>\n",
       "    .dataframe tbody tr th:only-of-type {\n",
       "        vertical-align: middle;\n",
       "    }\n",
       "\n",
       "    .dataframe tbody tr th {\n",
       "        vertical-align: top;\n",
       "    }\n",
       "\n",
       "    .dataframe thead th {\n",
       "        text-align: right;\n",
       "    }\n",
       "</style>\n",
       "<table border=\"1\" class=\"dataframe\">\n",
       "  <thead>\n",
       "    <tr style=\"text-align: right;\">\n",
       "      <th></th>\n",
       "      <th>sensitive_column_value</th>\n",
       "      <th>count_before</th>\n",
       "      <th>count_after</th>\n",
       "      <th>ratio_before</th>\n",
       "      <th>ratio_after</th>\n",
       "      <th>relative_ratio_change</th>\n",
       "    </tr>\n",
       "  </thead>\n",
       "  <tbody>\n",
       "    <tr>\n",
       "      <th>0</th>\n",
       "      <td>African-American</td>\n",
       "      <td>2588</td>\n",
       "      <td>2228</td>\n",
       "      <td>0.512577</td>\n",
       "      <td>0.516099</td>\n",
       "      <td>0.006872</td>\n",
       "    </tr>\n",
       "    <tr>\n",
       "      <th>1</th>\n",
       "      <td>Asian</td>\n",
       "      <td>23</td>\n",
       "      <td>22</td>\n",
       "      <td>0.004555</td>\n",
       "      <td>0.005096</td>\n",
       "      <td>0.118712</td>\n",
       "    </tr>\n",
       "    <tr>\n",
       "      <th>2</th>\n",
       "      <td>Caucasian</td>\n",
       "      <td>1707</td>\n",
       "      <td>1462</td>\n",
       "      <td>0.338087</td>\n",
       "      <td>0.338661</td>\n",
       "      <td>0.001699</td>\n",
       "    </tr>\n",
       "    <tr>\n",
       "      <th>3</th>\n",
       "      <td>Hispanic</td>\n",
       "      <td>452</td>\n",
       "      <td>357</td>\n",
       "      <td>0.089523</td>\n",
       "      <td>0.082696</td>\n",
       "      <td>-0.076253</td>\n",
       "    </tr>\n",
       "    <tr>\n",
       "      <th>4</th>\n",
       "      <td>Native American</td>\n",
       "      <td>14</td>\n",
       "      <td>8</td>\n",
       "      <td>0.002773</td>\n",
       "      <td>0.001853</td>\n",
       "      <td>-0.331679</td>\n",
       "    </tr>\n",
       "    <tr>\n",
       "      <th>5</th>\n",
       "      <td>Other</td>\n",
       "      <td>265</td>\n",
       "      <td>240</td>\n",
       "      <td>0.052486</td>\n",
       "      <td>0.055594</td>\n",
       "      <td>0.059226</td>\n",
       "    </tr>\n",
       "  </tbody>\n",
       "</table>\n",
       "</div>"
      ],
      "text/plain": [
       "  sensitive_column_value  count_before  count_after  ratio_before  \\\n",
       "0       African-American          2588         2228      0.512577   \n",
       "1                  Asian            23           22      0.004555   \n",
       "2              Caucasian          1707         1462      0.338087   \n",
       "3               Hispanic           452          357      0.089523   \n",
       "4        Native American            14            8      0.002773   \n",
       "5                  Other           265          240      0.052486   \n",
       "\n",
       "   ratio_after  relative_ratio_change  \n",
       "0     0.516099               0.006872  \n",
       "1     0.005096               0.118712  \n",
       "2     0.338661               0.001699  \n",
       "3     0.082696              -0.076253  \n",
       "4     0.001853              -0.331679  \n",
       "5     0.055594               0.059226  "
      ]
     },
     "metadata": {},
     "output_type": "display_data"
    },
    {
     "data": {
      "image/png": "[encoded data removed]",
      "text/plain": [
       "<Figure size 864x288 with 2 Axes>"
      ]
     },
     "metadata": {
      "needs_background": "light"
     },
     "output_type": "display_data"
    }
   ],
   "source": [
    "# Select the DagNode we want to look at by index\n",
    "selection, selection_distribution_changes = dag_node_distribution_changes_list[0]\n",
    "\n",
    "# Investige the changes\n",
    "print('\\033[1m', selection.operator_type, selection.code_reference, selection.module, selection.description, '\\033[0m')\n",
    "for column, distribution_change in selection_distribution_changes.items():\n",
    "    print(\"\")\n",
    "    print(\"\\033[1m Column '{}'\\033[0m, acceptable change: {}, min_relative_ratio_change: {}\".format(column, distribution_change.acceptable_change, distribution_change.min_relative_ratio_change))\n",
    "    display(distribution_change.before_and_after_df)\n",
    "    NoBiasIntroducedFor.plot_distribution_change_histograms(distribution_change)"
   ]
  },
  {
   "cell_type": "markdown",
   "metadata": {},
   "source": [
    "**As we can see, there are no noteworthy changes because of the join.**"
   ]
  },
  {
   "cell_type": "markdown",
   "metadata": {},
   "source": [
    "**The `most-frequent` imputation amplifies the existing `race` imbalance!**"
   ]
  },
  {
   "cell_type": "markdown",
   "metadata": {},
   "source": [
    "# Your answer: Did we find operators that introduce bias? How much did the distribution change?"
   ]
  },
  {
   "cell_type": "markdown",
   "metadata": {},
   "source": [
    "**TODO:** ... We conclude, ..."
   ]
  },
  {
   "cell_type": "code",
   "execution_count": null,
   "metadata": {},
   "outputs": [],
   "source": []
  }
 ],
 "metadata": {
  "kernelspec": {
   "display_name": "Python 3",
   "language": "python",
   "name": "python3"
  },
  "language_info": {
   "codemirror_mode": {
    "name": "ipython",
    "version": 3
   },
   "file_extension": ".py",
   "mimetype": "text/x-python",
   "name": "python",
   "nbconvert_exporter": "python",
   "pygments_lexer": "ipython3",
   "version": "3.8.5"
  }
 },
 "nbformat": 4,
 "nbformat_minor": 4
}
