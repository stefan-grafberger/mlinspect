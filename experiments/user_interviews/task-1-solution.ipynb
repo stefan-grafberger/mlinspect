{
 "cells": [
  {
   "cell_type": "markdown",
   "metadata": {},
   "source": [
    "# Task\n",
    "\n",
    "Operators like joins, selections and missing value imputaters can cause *data distribution issues*, which can heavily impact the performance of our model for specific demographic groups. Mlinspect helps with identifying such issues by offering a check that calculates histograms for sensitive groups in the data and verifying whether the histogram change is significant enough to alert the user. Thanks to our annotation propagation, we can deal with complex code involving things like nested sklearn pipelines and group memberships that are removed from the training data using projections.\n",
    "\n",
    "We want to find out if preprocessing operations in pipelines introduce bias and if so, which groups are effected.\n",
    "The pipeline we want to analyse in this task can be found using the path `os.path.join(str(get_project_root()), \"experiments\", \"user_interviews\", \"compas_modified.py\")`. The senstive attributes we want to take a look at are `sex` and `race`. \n",
    "\n",
    "The COMPAS dataset contains information about 6,889 criminal defendants in Broward County, FL, along with predictions of their recidivism risk, as produced by a commercial tool called COMPAS. The sensitive attributes include gender and race. The task is to predict whether a defendant is likely re-offend. We took this existing data set and only modified it slightly by introducing an artificial issue which we will now try to find using mlinspect.\n",
    "\n",
    "The code of the pipeline:\n",
    "\n",
    "> ```python\n",
    "> \"\"\"\n",
    "> COMPAS pipeline\n",
    "> \"\"\"\n",
    "> import os\n",
    "> \n",
    "> import pandas as pd\n",
    "> from sklearn.compose import ColumnTransformer\n",
    "> from sklearn.impute import SimpleImputer\n",
    "> from sklearn.linear_model import LogisticRegression\n",
    "> from sklearn.pipeline import Pipeline\n",
    "> from sklearn.preprocessing import OneHotEncoder, KBinsDiscretizer, label_binarize\n",
    "> \n",
    "> from mlinspect.utils import get_project_root\n",
    "> \n",
    "> train_file = os.path.join(str(get_project_root()), \"experiments\", \"user_interviews\", \"compas_train_modified.csv\")\n",
    "> train = pd.read_csv(train_file, na_values='?', index_col=0)\n",
    "> test_file = os.path.join(str(get_project_root()), \"example_pipelines\", \"compas\", \"compas_test.csv\")\n",
    "> test = pd.read_csv(test_file, na_values='?', index_col=0)\n",
    "> \n",
    "> train = train[\n",
    ">     ['sex', 'dob', 'age', 'c_charge_degree', 'race', 'score_text', 'priors_count', 'days_b_screening_arrest',\n",
    ">      'decile_score', 'is_recid', 'two_year_recid', 'c_jail_in', 'c_jail_out']]\n",
    "> test = test[\n",
    ">     ['sex', 'dob', 'age', 'c_charge_degree', 'race', 'score_text', 'priors_count', 'days_b_screening_arrest',\n",
    ">      'decile_score', 'is_recid', 'two_year_recid', 'c_jail_in', 'c_jail_out']]\n",
    "> \n",
    "> # If the charge date of a defendants Compas scored crime was not within 30 days from when the person was arrested,\n",
    "> # we assume that because of data quality reasons, that we do not have the right offense.\n",
    "> train = train[(train['days_b_screening_arrest'] <= 30) & (train['days_b_screening_arrest'] >= -30)]\n",
    "> # We coded the recidivist flag – is_recid – to be -1 if we could not find a compas case at all.\n",
    "> train = train[train['is_recid'] != -1]\n",
    "> # In a similar vein, ordinary traffic offenses – those with a c_charge_degree of ‘O’ – will not result in Jail\n",
    "> # time are removed (only two of them).\n",
    "> train = train[train['c_charge_degree'] != \"O\"]\n",
    "> # We filtered the underlying data from Broward county to include only those rows representing people who had either\n",
    "> # recidivated in two years, or had at least two years outside of a correctional facility.\n",
    "> train = train[train['score_text'] != 'N/A']\n",
    "> \n",
    "> train = train.replace('Medium', \"Low\")\n",
    "> test = test.replace('Medium', \"Low\")\n",
    "> \n",
    "> train_labels = label_binarize(train['score_text'], classes=['High', 'Low'])\n",
    "> test_labels = label_binarize(test['score_text'], classes=['High', 'Low'])\n",
    "> \n",
    "> impute_and_onehot = Pipeline([('imputer1', SimpleImputer(strategy='most_frequent')),\n",
    ">                               ('onehot', OneHotEncoder(handle_unknown='ignore'))])\n",
    "> impute_and_bin = Pipeline([('imputer2', SimpleImputer(strategy='mean')),\n",
    ">                            ('discretizer', KBinsDiscretizer(n_bins=4, encode='ordinal', strategy='uniform'))])\n",
    "> \n",
    "> compas_featurizer = ColumnTransformer(transformers=[\n",
    ">     ('impute1_and_onehot', impute_and_onehot, ['is_recid']),\n",
    ">     ('impute2_and_bin', impute_and_bin, ['age'])\n",
    "> ])\n",
    "> compas_pipeline = Pipeline([\n",
    ">     ('features', compas_featurizer),\n",
    ">     ('classifier', LogisticRegression())\n",
    "> ])\n",
    "> \n",
    "> compas_pipeline.fit(train, train_labels.ravel())\n",
    "> print(compas_pipeline.score(test, test_labels.ravel()))\n",
    "> ```"
   ]
  },
  {
   "cell_type": "markdown",
   "metadata": {},
   "source": [
    "# Step 1/4: Add check and execute the pipeline\n",
    "\n",
    "The central entry point of mlinspect is the `PipelineInspector`. To use mlinspect, we use it and pass it the path to the runnable version of the example pipeline. Here, we have the example pipeline in a `.py` file. \n",
    "\n",
    "First, we define the check we want mlinspect to run. In this example, we only use `NoBiasIntroducedFor([\"col1\", \"col2\", ...])` to automatically check for significant changes in the distribution of sensitive demograhpic groups and compute the histograms.\n",
    "\n",
    "Then, we execute the pipeline. Mlinspect returns a `InspectorResult`, which, among other information, contains the output of our check. "
   ]
  },
  {
   "cell_type": "code",
   "execution_count": 1,
   "metadata": {},
   "outputs": [
    {
     "name": "stdout",
     "output_type": "stream",
     "text": [
      "0.8078521939953811\n"
     ]
    }
   ],
   "source": [
    "import os\n",
    "from mlinspect.utils import get_project_root\n",
    "\n",
    "from mlinspect import PipelineInspector\n",
    "from mlinspect.checks import NoBiasIntroducedFor\n",
    "\n",
    "COMPAS_FILE_PY = os.path.join(str(get_project_root()), \"experiments\", \"user_interviews\", \"compas_modified.py\")\n",
    "\n",
    "inspector_result = PipelineInspector\\\n",
    "    .on_pipeline_from_py_file(COMPAS_FILE_PY) \\\n",
    "    .add_check(NoBiasIntroducedFor(['sex', 'race'])) \\\n",
    "    .execute()\n",
    "\n",
    "check_results = inspector_result.check_to_check_results"
   ]
  },
  {
   "cell_type": "markdown",
   "metadata": {},
   "source": [
    "# Step 2/4: Overview of the check results\n",
    "## Did our check find issues?\n",
    "\n",
    "Let us look at the `check_result` to see our some check failed. We do this using the mlinspect utlity function `check_results_as_data_frame(...)`. We see that an issue was found, so we have to investigate it."
   ]
  },
  {
   "cell_type": "code",
   "execution_count": 2,
   "metadata": {},
   "outputs": [
    {
     "data": {
      "text/html": [
       "<div>\n",
       "<style scoped>\n",
       "    .dataframe tbody tr th:only-of-type {\n",
       "        vertical-align: middle;\n",
       "    }\n",
       "\n",
       "    .dataframe tbody tr th {\n",
       "        vertical-align: top;\n",
       "    }\n",
       "\n",
       "    .dataframe thead th {\n",
       "        text-align: right;\n",
       "    }\n",
       "</style>\n",
       "<table border=\"1\" class=\"dataframe\">\n",
       "  <thead>\n",
       "    <tr style=\"text-align: right;\">\n",
       "      <th></th>\n",
       "      <th>check_name</th>\n",
       "      <th>status</th>\n",
       "      <th>description</th>\n",
       "    </tr>\n",
       "  </thead>\n",
       "  <tbody>\n",
       "    <tr>\n",
       "      <th>0</th>\n",
       "      <td>NoBiasIntroducedFor((('sex', 'race'), -0.3))</td>\n",
       "      <td>CheckStatus.FAILURE</td>\n",
       "      <td>A Selection causes a min_relative_ratio_change of 'race' by -0.33167874516032964, a value below the configured minimum threshold -0.3! A Selection causes a min_relative_ratio_change of 'race' by -0.4770364294546038, a value below the configured minimum threshold -0.3!</td>\n",
       "    </tr>\n",
       "  </tbody>\n",
       "</table>\n",
       "</div>"
      ],
      "text/plain": [
       "                                     check_name               status  \\\n",
       "0  NoBiasIntroducedFor((('sex', 'race'), -0.3))  CheckStatus.FAILURE   \n",
       "\n",
       "                                                                                                                                                                                                                                                                    description  \n",
       "0  A Selection causes a min_relative_ratio_change of 'race' by -0.33167874516032964, a value below the configured minimum threshold -0.3! A Selection causes a min_relative_ratio_change of 'race' by -0.4770364294546038, a value below the configured minimum threshold -0.3!  "
      ]
     },
     "metadata": {},
     "output_type": "display_data"
    }
   ],
   "source": [
    "from IPython.display import display\n",
    "import pandas as pd\n",
    "pd.set_option('display.max_colwidth', None)\n",
    "\n",
    "check_result_df = PipelineInspector.check_results_as_data_frame(check_results)\n",
    "display(check_result_df)"
   ]
  },
  {
   "cell_type": "markdown",
   "metadata": {},
   "source": [
    "# Step 3/4: List of operations that could change the distribution \n",
    "\n",
    "As stated before, only some operations like selections, joins and missing value imputation can change the distribution. Our check already filtered all operators that can cause data distribution issues. We can use the mlinspect utility function `get_distribution_changes_overview_as_df(...)` to get an overview. The overview already tells us that mlinspect detected potential issues caused by the first two selections. Note that the automatic issue detection from mlinspect is only as good as its configuration and should not be completely relied upon."
   ]
  },
  {
   "cell_type": "code",
   "execution_count": 3,
   "metadata": {
    "scrolled": true
   },
   "outputs": [
    {
     "data": {
      "text/html": [
       "<div>\n",
       "<style scoped>\n",
       "    .dataframe tbody tr th:only-of-type {\n",
       "        vertical-align: middle;\n",
       "    }\n",
       "\n",
       "    .dataframe tbody tr th {\n",
       "        vertical-align: top;\n",
       "    }\n",
       "\n",
       "    .dataframe thead th {\n",
       "        text-align: right;\n",
       "    }\n",
       "</style>\n",
       "<table border=\"1\" class=\"dataframe\">\n",
       "  <thead>\n",
       "    <tr style=\"text-align: right;\">\n",
       "      <th></th>\n",
       "      <th>operator_type</th>\n",
       "      <th>description</th>\n",
       "      <th>code_reference</th>\n",
       "      <th>source_code</th>\n",
       "      <th>module</th>\n",
       "      <th>'sex' distribution change below the configured minimum test threshold</th>\n",
       "      <th>'race' distribution change below the configured minimum test threshold</th>\n",
       "    </tr>\n",
       "  </thead>\n",
       "  <tbody>\n",
       "    <tr>\n",
       "      <th>0</th>\n",
       "      <td>OperatorType.SELECTION</td>\n",
       "      <td>Select by Series: train[(train['days_b_screening_arrest'] &lt;= 30) &amp; (train['days_b_screening_arrest'] &gt;= -30)]</td>\n",
       "      <td>CodeReference(lineno=29, col_offset=8, end_lineno=29, end_col_offset=99)</td>\n",
       "      <td>train[(train['days_b_screening_arrest'] &lt;= 30) &amp; (train['days_b_screening_arrest'] &gt;= -30)]</td>\n",
       "      <td>FunctionInfo(module='pandas.core.frame', function_name='__getitem__')</td>\n",
       "      <td>False</td>\n",
       "      <td>True</td>\n",
       "    </tr>\n",
       "    <tr>\n",
       "      <th>1</th>\n",
       "      <td>OperatorType.SELECTION</td>\n",
       "      <td>Select by Series: train[train['is_recid'] != -1]</td>\n",
       "      <td>CodeReference(lineno=31, col_offset=8, end_lineno=31, end_col_offset=38)</td>\n",
       "      <td>train[train['is_recid'] != -1]</td>\n",
       "      <td>FunctionInfo(module='pandas.core.frame', function_name='__getitem__')</td>\n",
       "      <td>False</td>\n",
       "      <td>True</td>\n",
       "    </tr>\n",
       "    <tr>\n",
       "      <th>2</th>\n",
       "      <td>OperatorType.SELECTION</td>\n",
       "      <td>Select by Series: train[train['c_charge_degree'] != \"O\"]</td>\n",
       "      <td>CodeReference(lineno=34, col_offset=8, end_lineno=34, end_col_offset=46)</td>\n",
       "      <td>train[train['c_charge_degree'] != \"O\"]</td>\n",
       "      <td>FunctionInfo(module='pandas.core.frame', function_name='__getitem__')</td>\n",
       "      <td>False</td>\n",
       "      <td>False</td>\n",
       "    </tr>\n",
       "    <tr>\n",
       "      <th>3</th>\n",
       "      <td>OperatorType.SELECTION</td>\n",
       "      <td>Select by Series: train[train['score_text'] != 'N/A']</td>\n",
       "      <td>CodeReference(lineno=37, col_offset=8, end_lineno=37, end_col_offset=43)</td>\n",
       "      <td>train[train['score_text'] != 'N/A']</td>\n",
       "      <td>FunctionInfo(module='pandas.core.frame', function_name='__getitem__')</td>\n",
       "      <td>False</td>\n",
       "      <td>False</td>\n",
       "    </tr>\n",
       "  </tbody>\n",
       "</table>\n",
       "</div>"
      ],
      "text/plain": [
       "            operator_type  \\\n",
       "0  OperatorType.SELECTION   \n",
       "1  OperatorType.SELECTION   \n",
       "2  OperatorType.SELECTION   \n",
       "3  OperatorType.SELECTION   \n",
       "\n",
       "                                                                                                     description  \\\n",
       "0  Select by Series: train[(train['days_b_screening_arrest'] <= 30) & (train['days_b_screening_arrest'] >= -30)]   \n",
       "1                                                               Select by Series: train[train['is_recid'] != -1]   \n",
       "2                                                       Select by Series: train[train['c_charge_degree'] != \"O\"]   \n",
       "3                                                          Select by Series: train[train['score_text'] != 'N/A']   \n",
       "\n",
       "                                                             code_reference  \\\n",
       "0  CodeReference(lineno=29, col_offset=8, end_lineno=29, end_col_offset=99)   \n",
       "1  CodeReference(lineno=31, col_offset=8, end_lineno=31, end_col_offset=38)   \n",
       "2  CodeReference(lineno=34, col_offset=8, end_lineno=34, end_col_offset=46)   \n",
       "3  CodeReference(lineno=37, col_offset=8, end_lineno=37, end_col_offset=43)   \n",
       "\n",
       "                                                                                   source_code  \\\n",
       "0  train[(train['days_b_screening_arrest'] <= 30) & (train['days_b_screening_arrest'] >= -30)]   \n",
       "1                                                               train[train['is_recid'] != -1]   \n",
       "2                                                       train[train['c_charge_degree'] != \"O\"]   \n",
       "3                                                          train[train['score_text'] != 'N/A']   \n",
       "\n",
       "                                                                  module  \\\n",
       "0  FunctionInfo(module='pandas.core.frame', function_name='__getitem__')   \n",
       "1  FunctionInfo(module='pandas.core.frame', function_name='__getitem__')   \n",
       "2  FunctionInfo(module='pandas.core.frame', function_name='__getitem__')   \n",
       "3  FunctionInfo(module='pandas.core.frame', function_name='__getitem__')   \n",
       "\n",
       "   'sex' distribution change below the configured minimum test threshold  \\\n",
       "0                                                                  False   \n",
       "1                                                                  False   \n",
       "2                                                                  False   \n",
       "3                                                                  False   \n",
       "\n",
       "   'race' distribution change below the configured minimum test threshold  \n",
       "0                                                                    True  \n",
       "1                                                                    True  \n",
       "2                                                                   False  \n",
       "3                                                                   False  "
      ]
     },
     "metadata": {},
     "output_type": "display_data"
    }
   ],
   "source": [
    "no_bias_check_result = check_results[NoBiasIntroducedFor(['sex', 'race'])]\n",
    "\n",
    "distribution_changes_overview_df = NoBiasIntroducedFor.get_distribution_changes_overview_as_df(no_bias_check_result)\n",
    "display(distribution_changes_overview_df)\n",
    "\n",
    "dag_node_distribution_changes_list = list(no_bias_check_result.bias_distribution_change.items())"
   ]
  },
  {
   "cell_type": "markdown",
   "metadata": {},
   "source": [
    "# Step 4/4 Detailed Investigation\n",
    "\n",
    "Now that we know of potential issues, we will take a look at the histograms before and after the JOIN. We can use `distribution_change.before_and_after_df` to look at the data in form of a `pandas.DataFrame` or use the mlinspect utility function `plot_distribution_change_histograms(...)` to plot the histograms. "
   ]
  },
  {
   "cell_type": "code",
   "execution_count": 4,
   "metadata": {},
   "outputs": [
    {
     "name": "stdout",
     "output_type": "stream",
     "text": [
      "\u001b[1mOperatorType.SELECTION: train[(train['days_b_screening_arrest'] <= 30) & (train['days_b_screening_arrest'] >= -30)]\u001b[0m\n",
      "\n",
      "\u001b[1m Column 'sex'\u001b[0m, acceptable change: True, min_relative_ratio_change: -0.00526926631466584\n"
     ]
    },
    {
     "data": {
      "text/html": [
       "<div>\n",
       "<style scoped>\n",
       "    .dataframe tbody tr th:only-of-type {\n",
       "        vertical-align: middle;\n",
       "    }\n",
       "\n",
       "    .dataframe tbody tr th {\n",
       "        vertical-align: top;\n",
       "    }\n",
       "\n",
       "    .dataframe thead th {\n",
       "        text-align: right;\n",
       "    }\n",
       "</style>\n",
       "<table border=\"1\" class=\"dataframe\">\n",
       "  <thead>\n",
       "    <tr style=\"text-align: right;\">\n",
       "      <th></th>\n",
       "      <th>sensitive_column_value</th>\n",
       "      <th>count_before</th>\n",
       "      <th>count_after</th>\n",
       "      <th>ratio_before</th>\n",
       "      <th>ratio_after</th>\n",
       "      <th>relative_ratio_change</th>\n",
       "    </tr>\n",
       "  </thead>\n",
       "  <tbody>\n",
       "    <tr>\n",
       "      <th>0</th>\n",
       "      <td>Female</td>\n",
       "      <td>970</td>\n",
       "      <td>825</td>\n",
       "      <td>0.192117</td>\n",
       "      <td>0.191105</td>\n",
       "      <td>-0.005269</td>\n",
       "    </tr>\n",
       "    <tr>\n",
       "      <th>1</th>\n",
       "      <td>Male</td>\n",
       "      <td>4079</td>\n",
       "      <td>3492</td>\n",
       "      <td>0.807883</td>\n",
       "      <td>0.808895</td>\n",
       "      <td>0.001253</td>\n",
       "    </tr>\n",
       "  </tbody>\n",
       "</table>\n",
       "</div>"
      ],
      "text/plain": [
       "  sensitive_column_value  count_before  count_after  ratio_before  \\\n",
       "0                 Female           970          825      0.192117   \n",
       "1                   Male          4079         3492      0.807883   \n",
       "\n",
       "   ratio_after  relative_ratio_change  \n",
       "0     0.191105              -0.005269  \n",
       "1     0.808895               0.001253  "
      ]
     },
     "metadata": {},
     "output_type": "display_data"
    },
    {
     "data": {
      "image/png": "[encoded data removed]",
      "text/plain": [
       "<Figure size 864x288 with 2 Axes>"
      ]
     },
     "metadata": {
      "needs_background": "light"
     },
     "output_type": "display_data"
    },
    {
     "name": "stdout",
     "output_type": "stream",
     "text": [
      "\n",
      "\u001b[1m Column 'race'\u001b[0m, acceptable change: False, min_relative_ratio_change: -0.33167874516032964\n"
     ]
    },
    {
     "data": {
      "text/html": [
       "<div>\n",
       "<style scoped>\n",
       "    .dataframe tbody tr th:only-of-type {\n",
       "        vertical-align: middle;\n",
       "    }\n",
       "\n",
       "    .dataframe tbody tr th {\n",
       "        vertical-align: top;\n",
       "    }\n",
       "\n",
       "    .dataframe thead th {\n",
       "        text-align: right;\n",
       "    }\n",
       "</style>\n",
       "<table border=\"1\" class=\"dataframe\">\n",
       "  <thead>\n",
       "    <tr style=\"text-align: right;\">\n",
       "      <th></th>\n",
       "      <th>sensitive_column_value</th>\n",
       "      <th>count_before</th>\n",
       "      <th>count_after</th>\n",
       "      <th>ratio_before</th>\n",
       "      <th>ratio_after</th>\n",
       "      <th>relative_ratio_change</th>\n",
       "    </tr>\n",
       "  </thead>\n",
       "  <tbody>\n",
       "    <tr>\n",
       "      <th>0</th>\n",
       "      <td>African-American</td>\n",
       "      <td>2588</td>\n",
       "      <td>2228</td>\n",
       "      <td>0.512577</td>\n",
       "      <td>0.516099</td>\n",
       "      <td>0.006872</td>\n",
       "    </tr>\n",
       "    <tr>\n",
       "      <th>1</th>\n",
       "      <td>Asian</td>\n",
       "      <td>23</td>\n",
       "      <td>22</td>\n",
       "      <td>0.004555</td>\n",
       "      <td>0.005096</td>\n",
       "      <td>0.118712</td>\n",
       "    </tr>\n",
       "    <tr>\n",
       "      <th>2</th>\n",
       "      <td>Caucasian</td>\n",
       "      <td>1707</td>\n",
       "      <td>1462</td>\n",
       "      <td>0.338087</td>\n",
       "      <td>0.338661</td>\n",
       "      <td>0.001699</td>\n",
       "    </tr>\n",
       "    <tr>\n",
       "      <th>3</th>\n",
       "      <td>Hispanic</td>\n",
       "      <td>452</td>\n",
       "      <td>357</td>\n",
       "      <td>0.089523</td>\n",
       "      <td>0.082696</td>\n",
       "      <td>-0.076253</td>\n",
       "    </tr>\n",
       "    <tr>\n",
       "      <th>4</th>\n",
       "      <td>Native American</td>\n",
       "      <td>14</td>\n",
       "      <td>8</td>\n",
       "      <td>0.002773</td>\n",
       "      <td>0.001853</td>\n",
       "      <td>-0.331679</td>\n",
       "    </tr>\n",
       "    <tr>\n",
       "      <th>5</th>\n",
       "      <td>Other</td>\n",
       "      <td>265</td>\n",
       "      <td>240</td>\n",
       "      <td>0.052486</td>\n",
       "      <td>0.055594</td>\n",
       "      <td>0.059226</td>\n",
       "    </tr>\n",
       "  </tbody>\n",
       "</table>\n",
       "</div>"
      ],
      "text/plain": [
       "  sensitive_column_value  count_before  count_after  ratio_before  \\\n",
       "0       African-American          2588         2228      0.512577   \n",
       "1                  Asian            23           22      0.004555   \n",
       "2              Caucasian          1707         1462      0.338087   \n",
       "3               Hispanic           452          357      0.089523   \n",
       "4        Native American            14            8      0.002773   \n",
       "5                  Other           265          240      0.052486   \n",
       "\n",
       "   ratio_after  relative_ratio_change  \n",
       "0     0.516099               0.006872  \n",
       "1     0.005096               0.118712  \n",
       "2     0.338661               0.001699  \n",
       "3     0.082696              -0.076253  \n",
       "4     0.001853              -0.331679  \n",
       "5     0.055594               0.059226  "
      ]
     },
     "metadata": {},
     "output_type": "display_data"
    },
    {
     "data": {
      "image/png": "[encoded data removed]",
      "text/plain": [
       "<Figure size 864x288 with 2 Axes>"
      ]
     },
     "metadata": {
      "needs_background": "light"
     },
     "output_type": "display_data"
    }
   ],
   "source": [
    "# Select the DagNode we want to look at by index\n",
    "dag_node, node_distribution_changes = dag_node_distribution_changes_list[0]\n",
    "\n",
    "# Investige the changes\n",
    "print(\"\\033[1m{}: {}\\033[0m\".format(dag_node.operator_info.operator, dag_node.optional_code_info.source_code))\n",
    "for column, distribution_change in node_distribution_changes.items():\n",
    "    print(\"\")\n",
    "    print(\"\\033[1m Column '{}'\\033[0m, acceptable change: {}, min_relative_ratio_change: {}\".format(column, distribution_change.acceptable_change, distribution_change.min_relative_ratio_change))\n",
    "    display(distribution_change.before_and_after_df)\n",
    "    NoBiasIntroducedFor.plot_distribution_change_histograms(distribution_change)"
   ]
  },
  {
   "cell_type": "code",
   "execution_count": 5,
   "metadata": {},
   "outputs": [
    {
     "name": "stdout",
     "output_type": "stream",
     "text": [
      "\u001b[1mOperatorType.SELECTION: train[train['is_recid'] != -1]\u001b[0m\n",
      "\n",
      "\u001b[1m Column 'sex'\u001b[0m, acceptable change: True, min_relative_ratio_change: -0.0029918244774166398\n"
     ]
    },
    {
     "data": {
      "text/html": [
       "<div>\n",
       "<style scoped>\n",
       "    .dataframe tbody tr th:only-of-type {\n",
       "        vertical-align: middle;\n",
       "    }\n",
       "\n",
       "    .dataframe tbody tr th {\n",
       "        vertical-align: top;\n",
       "    }\n",
       "\n",
       "    .dataframe thead th {\n",
       "        text-align: right;\n",
       "    }\n",
       "</style>\n",
       "<table border=\"1\" class=\"dataframe\">\n",
       "  <thead>\n",
       "    <tr style=\"text-align: right;\">\n",
       "      <th></th>\n",
       "      <th>sensitive_column_value</th>\n",
       "      <th>count_before</th>\n",
       "      <th>count_after</th>\n",
       "      <th>ratio_before</th>\n",
       "      <th>ratio_after</th>\n",
       "      <th>relative_ratio_change</th>\n",
       "    </tr>\n",
       "  </thead>\n",
       "  <tbody>\n",
       "    <tr>\n",
       "      <th>0</th>\n",
       "      <td>Female</td>\n",
       "      <td>825</td>\n",
       "      <td>801</td>\n",
       "      <td>0.191105</td>\n",
       "      <td>0.193525</td>\n",
       "      <td>0.012664</td>\n",
       "    </tr>\n",
       "    <tr>\n",
       "      <th>1</th>\n",
       "      <td>Male</td>\n",
       "      <td>3492</td>\n",
       "      <td>3338</td>\n",
       "      <td>0.808895</td>\n",
       "      <td>0.806475</td>\n",
       "      <td>-0.002992</td>\n",
       "    </tr>\n",
       "  </tbody>\n",
       "</table>\n",
       "</div>"
      ],
      "text/plain": [
       "  sensitive_column_value  count_before  count_after  ratio_before  \\\n",
       "0                 Female           825          801      0.191105   \n",
       "1                   Male          3492         3338      0.808895   \n",
       "\n",
       "   ratio_after  relative_ratio_change  \n",
       "0     0.193525               0.012664  \n",
       "1     0.806475              -0.002992  "
      ]
     },
     "metadata": {},
     "output_type": "display_data"
    },
    {
     "data": {
      "image/png": "[encoded data removed]",
      "text/plain": [
       "<Figure size 864x288 with 2 Axes>"
      ]
     },
     "metadata": {
      "needs_background": "light"
     },
     "output_type": "display_data"
    },
    {
     "name": "stdout",
     "output_type": "stream",
     "text": [
      "\n",
      "\u001b[1m Column 'race'\u001b[0m, acceptable change: False, min_relative_ratio_change: -0.4770364294546038\n"
     ]
    },
    {
     "data": {
      "text/html": [
       "<div>\n",
       "<style scoped>\n",
       "    .dataframe tbody tr th:only-of-type {\n",
       "        vertical-align: middle;\n",
       "    }\n",
       "\n",
       "    .dataframe tbody tr th {\n",
       "        vertical-align: top;\n",
       "    }\n",
       "\n",
       "    .dataframe thead th {\n",
       "        text-align: right;\n",
       "    }\n",
       "</style>\n",
       "<table border=\"1\" class=\"dataframe\">\n",
       "  <thead>\n",
       "    <tr style=\"text-align: right;\">\n",
       "      <th></th>\n",
       "      <th>sensitive_column_value</th>\n",
       "      <th>count_before</th>\n",
       "      <th>count_after</th>\n",
       "      <th>ratio_before</th>\n",
       "      <th>ratio_after</th>\n",
       "      <th>relative_ratio_change</th>\n",
       "    </tr>\n",
       "  </thead>\n",
       "  <tbody>\n",
       "    <tr>\n",
       "      <th>0</th>\n",
       "      <td>African-American</td>\n",
       "      <td>2228</td>\n",
       "      <td>2228</td>\n",
       "      <td>0.516099</td>\n",
       "      <td>0.538294</td>\n",
       "      <td>0.043006</td>\n",
       "    </tr>\n",
       "    <tr>\n",
       "      <th>1</th>\n",
       "      <td>Asian</td>\n",
       "      <td>22</td>\n",
       "      <td>22</td>\n",
       "      <td>0.005096</td>\n",
       "      <td>0.005315</td>\n",
       "      <td>0.043006</td>\n",
       "    </tr>\n",
       "    <tr>\n",
       "      <th>2</th>\n",
       "      <td>Caucasian</td>\n",
       "      <td>1462</td>\n",
       "      <td>1462</td>\n",
       "      <td>0.338661</td>\n",
       "      <td>0.353225</td>\n",
       "      <td>0.043006</td>\n",
       "    </tr>\n",
       "    <tr>\n",
       "      <th>3</th>\n",
       "      <td>Hispanic</td>\n",
       "      <td>357</td>\n",
       "      <td>179</td>\n",
       "      <td>0.082696</td>\n",
       "      <td>0.043247</td>\n",
       "      <td>-0.477036</td>\n",
       "    </tr>\n",
       "    <tr>\n",
       "      <th>4</th>\n",
       "      <td>Native American</td>\n",
       "      <td>8</td>\n",
       "      <td>8</td>\n",
       "      <td>0.001853</td>\n",
       "      <td>0.001933</td>\n",
       "      <td>0.043006</td>\n",
       "    </tr>\n",
       "    <tr>\n",
       "      <th>5</th>\n",
       "      <td>Other</td>\n",
       "      <td>240</td>\n",
       "      <td>240</td>\n",
       "      <td>0.055594</td>\n",
       "      <td>0.057985</td>\n",
       "      <td>0.043006</td>\n",
       "    </tr>\n",
       "  </tbody>\n",
       "</table>\n",
       "</div>"
      ],
      "text/plain": [
       "  sensitive_column_value  count_before  count_after  ratio_before  \\\n",
       "0       African-American          2228         2228      0.516099   \n",
       "1                  Asian            22           22      0.005096   \n",
       "2              Caucasian          1462         1462      0.338661   \n",
       "3               Hispanic           357          179      0.082696   \n",
       "4        Native American             8            8      0.001853   \n",
       "5                  Other           240          240      0.055594   \n",
       "\n",
       "   ratio_after  relative_ratio_change  \n",
       "0     0.538294               0.043006  \n",
       "1     0.005315               0.043006  \n",
       "2     0.353225               0.043006  \n",
       "3     0.043247              -0.477036  \n",
       "4     0.001933               0.043006  \n",
       "5     0.057985               0.043006  "
      ]
     },
     "metadata": {},
     "output_type": "display_data"
    },
    {
     "data": {
      "image/png": "[encoded data removed]",
      "text/plain": [
       "<Figure size 864x288 with 2 Axes>"
      ]
     },
     "metadata": {
      "needs_background": "light"
     },
     "output_type": "display_data"
    }
   ],
   "source": [
    "# Select the DagNode we want to look at by index\n",
    "dag_node, node_distribution_changes = dag_node_distribution_changes_list[1]\n",
    "\n",
    "# Investige the changes\n",
    "print(\"\\033[1m{}: {}\\033[0m\".format(dag_node.operator_info.operator, dag_node.optional_code_info.source_code))\n",
    "for column, distribution_change in node_distribution_changes.items():\n",
    "    print(\"\")\n",
    "    print(\"\\033[1m Column '{}'\\033[0m, acceptable change: {}, min_relative_ratio_change: {}\".format(column, distribution_change.acceptable_change, distribution_change.min_relative_ratio_change))\n",
    "    display(distribution_change.before_and_after_df)\n",
    "    NoBiasIntroducedFor.plot_distribution_change_histograms(distribution_change)"
   ]
  },
  {
   "cell_type": "markdown",
   "metadata": {},
   "source": [
    "# Your answer: Did we find operators that introduce bias? How did the distribution of demographic groups change?"
   ]
  },
  {
   "cell_type": "markdown",
   "metadata": {},
   "source": [
    "**My anser:** The first selection filters out 6 out of 14 data points with `race=Native American`. Although the plotted histogram makes it barely noticable, more than 30% of these data points are filtered out, which could be a problem for the final model performance for this demographic group. A lot more noticable, the second selection filters out more than 47% of the data points with `race=Hispanic`, which are 187 data points. This is something we definitely need to consider."
   ]
  },
  {
   "cell_type": "code",
   "execution_count": null,
   "metadata": {},
   "outputs": [],
   "source": []
  }
 ],
 "metadata": {
  "kernelspec": {
   "display_name": "Python 3",
   "language": "python",
   "name": "python3"
  },
  "language_info": {
   "codemirror_mode": {
    "name": "ipython",
    "version": 3
   },
   "file_extension": ".py",
   "mimetype": "text/x-python",
   "name": "python",
   "nbconvert_exporter": "python",
   "pygments_lexer": "ipython3",
   "version": "3.9.2"
  }
 },
 "nbformat": 4,
 "nbformat_minor": 4
}
