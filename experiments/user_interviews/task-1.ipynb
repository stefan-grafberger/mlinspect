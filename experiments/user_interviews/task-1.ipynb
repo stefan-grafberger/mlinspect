{
 "cells": [
  {
   "cell_type": "markdown",
   "metadata": {},
   "source": [
    "# Task\n",
    "\n",
    "Operators like joins, selections and missing value imputaters can cause *data distribution issues*, which can heavily impact the performance of our model for specific demographic groups. Mlinspect helps with identifying such issues by offering a check that calculates histograms for sensitive groups in the data and verifying whether the histogram change is significant enough to alert the user. Thanks to our annotation propagation, we can deal with complex code involving things like nested sklearn pipelines and group memberships that are removed from the training data using projections.\n",
    "\n",
    "We want to find out if preprocessing operations in pipelines introduce bias and if so, which groups are effected.\n",
    "The pipeline we want to analyse in this task can be found using the path `os.path.join(str(get_project_root()), \"experiments\", \"user_interviews\", \"compas_modified.py\")`. The senstive attributes we want to take a look at are `sex` and `race`. \n",
    "\n",
    "The COMPAS dataset contains information about 6,889 criminal defendants in Broward County, FL, along with predictions of their recidivism risk, as produced by a commercial tool called COMPAS. The sensitive attributes include gender and race. The task is to predict whether a defendant is likely re-offend. We took this existing data set and only modified it slightly by introducing an artificial issue which we will now try to find using mlinspect.\n",
    "\n",
    "The code of the pipeline:\n",
    "\n",
    "> ```python\n",
    "> \"\"\"\n",
    "> COMPAS pipeline\n",
    "> \"\"\"\n",
    "> import os\n",
    "> \n",
    "> import pandas as pd\n",
    "> from sklearn.compose import ColumnTransformer\n",
    "> from sklearn.impute import SimpleImputer\n",
    "> from sklearn.linear_model import LogisticRegression\n",
    "> from sklearn.pipeline import Pipeline\n",
    "> from sklearn.preprocessing import OneHotEncoder, KBinsDiscretizer, label_binarize\n",
    "> \n",
    "> from mlinspect.utils import get_project_root\n",
    "> \n",
    "> train_file = os.path.join(str(get_project_root()), \"experiments\", \"user_interviews\", \"compas_train_modified.csv\")\n",
    "> train = pd.read_csv(train_file, na_values='?', index_col=0)\n",
    "> test_file = os.path.join(str(get_project_root()), \"example_pipelines\", \"compas\", \"compas_test.csv\")\n",
    "> test = pd.read_csv(test_file, na_values='?', index_col=0)\n",
    "> \n",
    "> train = train[\n",
    ">     ['sex', 'dob', 'age', 'c_charge_degree', 'race', 'score_text', 'priors_count', 'days_b_screening_arrest',\n",
    ">      'decile_score', 'is_recid', 'two_year_recid', 'c_jail_in', 'c_jail_out']]\n",
    "> test = test[\n",
    ">     ['sex', 'dob', 'age', 'c_charge_degree', 'race', 'score_text', 'priors_count', 'days_b_screening_arrest',\n",
    ">      'decile_score', 'is_recid', 'two_year_recid', 'c_jail_in', 'c_jail_out']]\n",
    "> \n",
    "> # If the charge date of a defendants Compas scored crime was not within 30 days from when the person was arrested,\n",
    "> # we assume that because of data quality reasons, that we do not have the right offense.\n",
    "> train = train[(train['days_b_screening_arrest'] <= 30) & (train['days_b_screening_arrest'] >= -30)]\n",
    "> # We coded the recidivist flag – is_recid – to be -1 if we could not find a compas case at all.\n",
    "> train = train[train['is_recid'] != -1]\n",
    "> # In a similar vein, ordinary traffic offenses – those with a c_charge_degree of ‘O’ – will not result in Jail\n",
    "> # time are removed (only two of them).\n",
    "> train = train[train['c_charge_degree'] != \"O\"]\n",
    "> # We filtered the underlying data from Broward county to include only those rows representing people who had either\n",
    "> # recidivated in two years, or had at least two years outside of a correctional facility.\n",
    "> train = train[train['score_text'] != 'N/A']\n",
    "> \n",
    "> train = train.replace('Medium', \"Low\")\n",
    "> test = test.replace('Medium', \"Low\")\n",
    "> \n",
    "> train_labels = label_binarize(train['score_text'], classes=['High', 'Low'])\n",
    "> test_labels = label_binarize(test['score_text'], classes=['High', 'Low'])\n",
    "> \n",
    "> impute_and_onehot = Pipeline([('imputer1', SimpleImputer(strategy='most_frequent')),\n",
    ">                               ('onehot', OneHotEncoder(handle_unknown='ignore'))])\n",
    "> impute_and_bin = Pipeline([('imputer2', SimpleImputer(strategy='mean')),\n",
    ">                            ('discretizer', KBinsDiscretizer(n_bins=4, encode='ordinal', strategy='uniform'))])\n",
    "> \n",
    "> compas_featurizer = ColumnTransformer(transformers=[\n",
    ">     ('impute1_and_onehot', impute_and_onehot, ['is_recid']),\n",
    ">     ('impute2_and_bin', impute_and_bin, ['age'])\n",
    "> ])\n",
    "> compas_pipeline = Pipeline([\n",
    ">     ('features', compas_featurizer),\n",
    ">     ('classifier', LogisticRegression())\n",
    "> ])\n",
    "> \n",
    "> compas_pipeline.fit(train, train_labels.ravel())\n",
    "> print(compas_pipeline.score(test, test_labels.ravel()))\n",
    "> ```"
   ]
  },
  {
   "cell_type": "code",
   "execution_count": 1,
   "metadata": {},
   "outputs": [],
   "source": [
    "import os\n",
    "from mlinspect.utils import get_project_root\n",
    "\n",
    "COMPAS_FILE_PY = os.path.join(str(get_project_root()), \"experiments\", \"user_interviews\", \"compas_modified.py\")\n",
    "\n",
    "# TODO\n"
   ]
  },
  {
   "cell_type": "code",
   "execution_count": null,
   "metadata": {},
   "outputs": [],
   "source": []
  },
  {
   "cell_type": "code",
   "execution_count": null,
   "metadata": {
    "scrolled": true
   },
   "outputs": [],
   "source": []
  },
  {
   "cell_type": "code",
   "execution_count": null,
   "metadata": {},
   "outputs": [],
   "source": []
  },
  {
   "cell_type": "markdown",
   "metadata": {},
   "source": [
    "# Your answer: Did we find operators that introduce bias? How did the distribution of demographic groups change?"
   ]
  },
  {
   "cell_type": "markdown",
   "metadata": {},
   "source": [
    "**My anser:** TODO"
   ]
  },
  {
   "cell_type": "code",
   "execution_count": null,
   "metadata": {},
   "outputs": [],
   "source": []
  }
 ],
 "metadata": {
  "kernelspec": {
   "display_name": "Python 3",
   "language": "python",
   "name": "python3"
  },
  "language_info": {
   "codemirror_mode": {
    "name": "ipython",
    "version": 3
   },
   "file_extension": ".py",
   "mimetype": "text/x-python",
   "name": "python",
   "nbconvert_exporter": "python",
   "pygments_lexer": "ipython3",
   "version": "3.9.2"
  }
 },
 "nbformat": 4,
 "nbformat_minor": 4
}
