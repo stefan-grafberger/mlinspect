{
 "cells": [
  {
   "cell_type": "markdown",
   "metadata": {},
   "source": [
    "# Task\n",
    "\n",
    "Operators like joins, selections and missing value imputaters can cause *data distribution issues*, which can heavily impact the performance of our model. Mlinspect helps with identifying such issues by offering an inspection to calculate historams for sensitive groups. Thanks to our annotation propagation, this works even if the group columns are projected out at some point. To automatically check for significant changes and compute the histograms, we used the `no_bias_introduced_for(...)` constraint.\n",
    "\n",
    "We want to find out if preprocessing operations in this pipeline introduce bias and if so, which groups are effected.\n",
    "The pipeline we want to analyse can be found using the path `os.path.join(str(get_project_root()), \"example_pipelines\", \"adult_easy\", \"adult_easy.py\")\n",
    "`. Its code:\n",
    "\n",
    "> ```python\n",
    "> import os\n",
    "> import pandas as pd\n",
    "> \n",
    "> from sklearn import compose, preprocessing, tree, pipeline\n",
    "> from mlinspect.utils import get_project_root\n",
    "> \n",
    "> print('pipeline start')\n",
    "> train_file = os.path.join(str(get_project_root()), \"example_pipelines\", \"adult_complex\", \"adult_train.csv\")\n",
    "> raw_data = pd.read_csv(train_file, na_values='?', index_col=0)\n",
    "> \n",
    "> data = raw_data.dropna()\n",
    "> \n",
    "> labels = preprocessing.label_binarize(data['income-per-year'], classes=['>50K', '<=50K'])\n",
    "> \n",
    "> feature_transformation = compose.ColumnTransformer(transformers=[\n",
    ">     ('categorical', preprocessing.OneHotEncoder(handle_unknown='ignore'), ['education', 'workclass']),\n",
    ">     ('numeric', preprocessing.StandardScaler(), ['age', 'hours-per-week'])\n",
    "> ])\n",
    "> \n",
    "> \n",
    "> income_pipeline = pipeline.Pipeline([\n",
    ">     ('features', feature_transformation),\n",
    ">     ('classifier', tree.DecisionTreeClassifier())])\n",
    "> \n",
    "> income_pipeline.fit(data, labels)\n",
    "> print('pipeline finished')\n",
    "> \n",
    "> ```\n",
    "\n",
    " This is using a benchmark dataset frequently used in the algorithmic fairness literature. `Adult income` contains information about 33,000 individuals from the 1994 U.S. census, with sensitive attributes gender and race. The corresponding task is to predict whether the annual income of an individual exceeds $50,000. "
   ]
  },
  {
   "cell_type": "code",
   "execution_count": 5,
   "metadata": {},
   "outputs": [],
   "source": [
    "train_file = os.path.join(str(get_project_root()), \"example_pipelines\", \"adult_complex\", \"adult_train.csv\")\n",
    "raw_data = pd.read_csv(train_file, na_values='?', index_col=0)"
   ]
  },
  {
   "cell_type": "code",
   "execution_count": 22,
   "metadata": {},
   "outputs": [],
   "source": [
    "import numpy\n",
    "raw_data\n",
    "\n",
    "raw_data[\"id\"] = range(0, len(raw_data))\n",
    "\n",
    "raw_data_a = raw_data[[\"id\", \"age\", \"workclass\", \"fnlwgt\", \"education\", \"education-num\"]]\n",
    "raw_data_b = raw_data[[\"id\", \"marital-status\", \"occupation\", \"relationship\", \"race\", \"sex\", \"capital-gain\", \n",
    "                       \"capital-loss\", \"hours-per-week\", \"native-country\", \"income-per-year\"]]\n",
    "# Remove some rows from join result   \n",
    "raw_data_b_female = raw_data_b[raw_data_b['sex'] == 'Female'].index.values    \n",
    "numpy.random.shuffle(raw_data_b_female)    \n",
    "n = int(len(raw_data_b_female) * 0.4)\n",
    "raw_data_b.loc[raw_data_b_female[:n],'id'] = None\n",
    "\n",
    "merge_test = raw_data_a.merge(raw_data_b, on=\"id\")\n",
    "merge_test\n",
    "\n",
    "ADULT_SIMPLE_DATA_A = os.path.join(str(get_project_root()), \"experiments\", \"user_interviews\",\n",
    "                                    \"adult_simple_train_a.csv\")\n",
    "ADULT_SIMPLE_DATA_B = os.path.join(str(get_project_root()), \"experiments\", \"user_interviews\",\n",
    "                                    \"adult_simple_train_b.csv\")\n",
    "\n",
    "raw_data_a.to_csv(ADULT_SIMPLE_DATA_A, index=True)\n",
    "raw_data_b.to_csv(ADULT_SIMPLE_DATA_B, index=True)"
   ]
  },
  {
   "cell_type": "markdown",
   "metadata": {},
   "source": [
    "# Step 1/4: Add check and execute the pipeline\n",
    "\n",
    "The central entry point of mlinspect is the `PipelineInspector`. To use mlinspect, we use it and pass it the path to the runnable version of the example pipeline. Here, we have the example pipeline in a `.py` file. \n",
    "\n",
    "First, we define the check we want mlinspect to run. In this example, we only use 1 check to compute histograms of sensitive groups and verify operators cause no significant distribution changes.\n",
    "\n",
    "Then, we execute the pipeline. Mlinspect returns a `InspectorResult`, which contains the output of our check. "
   ]
  },
  {
   "cell_type": "code",
   "execution_count": 24,
   "metadata": {},
   "outputs": [
    {
     "name": "stdout",
     "output_type": "stream",
     "text": [
      "pipeline start\n",
      "pipeline finished\n"
     ]
    }
   ],
   "source": [
    "import os\n",
    "from mlinspect.utils import get_project_root\n",
    "\n",
    "from mlinspect import PipelineInspector\n",
    "from mlinspect.checks import NoBiasIntroducedFor\n",
    "\n",
    "HEALTHCARE_FILE_PY = os.path.join(str(get_project_root()), \"experiments\", \"user_interviews\", \"adult_simple_modified.py\")\n",
    "\n",
    "inspector_result = PipelineInspector\\\n",
    "    .on_pipeline_from_py_file(HEALTHCARE_FILE_PY) \\\n",
    "    .add_check(NoBiasIntroducedFor([\"race\", \"sex\"])) \\\n",
    "    .execute()\n",
    "\n",
    "check_results = inspector_result.check_to_check_results"
   ]
  },
  {
   "cell_type": "markdown",
   "metadata": {},
   "source": [
    "# Step 2/4: Overview of the check results\n",
    "## Did our check find issues?\n",
    "\n",
    "Let us look at the `check_result` to see whether some checks failed. We see that some issue was found, so we have to investigate it."
   ]
  },
  {
   "cell_type": "code",
   "execution_count": 25,
   "metadata": {},
   "outputs": [
    {
     "data": {
      "text/html": [
       "<div>\n",
       "<style scoped>\n",
       "    .dataframe tbody tr th:only-of-type {\n",
       "        vertical-align: middle;\n",
       "    }\n",
       "\n",
       "    .dataframe tbody tr th {\n",
       "        vertical-align: top;\n",
       "    }\n",
       "\n",
       "    .dataframe thead th {\n",
       "        text-align: right;\n",
       "    }\n",
       "</style>\n",
       "<table border=\"1\" class=\"dataframe\">\n",
       "  <thead>\n",
       "    <tr style=\"text-align: right;\">\n",
       "      <th></th>\n",
       "      <th>check_name</th>\n",
       "      <th>status</th>\n",
       "      <th>description</th>\n",
       "    </tr>\n",
       "  </thead>\n",
       "  <tbody>\n",
       "    <tr>\n",
       "      <th>0</th>\n",
       "      <td>NoBiasIntroducedFor((('race', 'sex'), -0.3))</td>\n",
       "      <td>CheckStatus.FAILURE</td>\n",
       "      <td>A Join causes a min_relative_ratio_change of 'sex' by -0.30857378313218065, a value below the configured minimum threshold -0.3!</td>\n",
       "    </tr>\n",
       "  </tbody>\n",
       "</table>\n",
       "</div>"
      ],
      "text/plain": [
       "                                     check_name               status  \\\n",
       "0  NoBiasIntroducedFor((('race', 'sex'), -0.3))  CheckStatus.FAILURE   \n",
       "\n",
       "                                                                                                                        description  \n",
       "0  A Join causes a min_relative_ratio_change of 'sex' by -0.30857378313218065, a value below the configured minimum threshold -0.3!  "
      ]
     },
     "metadata": {},
     "output_type": "display_data"
    }
   ],
   "source": [
    "from IPython.display import display\n",
    "import pandas as pd\n",
    "pd.set_option('display.max_colwidth', None)\n",
    "\n",
    "check_result_df = PipelineInspector.check_results_as_data_frame(check_results)\n",
    "display(check_result_df)"
   ]
  },
  {
   "cell_type": "markdown",
   "metadata": {},
   "source": [
    "# Step 3/4: List of operations that could change the distribution \n",
    "\n",
    "As stated before, only some operations like selections, joins and missing value imputation can change the distribution. Our check already filtered all operators that can cause data distribution issues. Now we will use the result to create list with all distribution changes and visualize them. Using this, we can investigate the changes of the different operators one at a time."
   ]
  },
  {
   "cell_type": "code",
   "execution_count": 26,
   "metadata": {},
   "outputs": [
    {
     "data": {
      "text/html": [
       "<div>\n",
       "<style scoped>\n",
       "    .dataframe tbody tr th:only-of-type {\n",
       "        vertical-align: middle;\n",
       "    }\n",
       "\n",
       "    .dataframe tbody tr th {\n",
       "        vertical-align: top;\n",
       "    }\n",
       "\n",
       "    .dataframe thead th {\n",
       "        text-align: right;\n",
       "    }\n",
       "</style>\n",
       "<table border=\"1\" class=\"dataframe\">\n",
       "  <thead>\n",
       "    <tr style=\"text-align: right;\">\n",
       "      <th></th>\n",
       "      <th>DagNode OperatorType</th>\n",
       "      <th>DagNode CodeReference</th>\n",
       "      <th>DagNode Module</th>\n",
       "      <th>DagNode Description</th>\n",
       "      <th>'race' distribution change below the configured minimum test threshold</th>\n",
       "      <th>'sex' distribution change below the configured minimum test threshold</th>\n",
       "    </tr>\n",
       "  </thead>\n",
       "  <tbody>\n",
       "    <tr>\n",
       "      <th>0</th>\n",
       "      <td>OperatorType.JOIN</td>\n",
       "      <td>CodeReference(lineno=18, col_offset=11, end_lineno=18, end_col_offset=48)</td>\n",
       "      <td>(pandas.core.frame, merge)</td>\n",
       "      <td>on id</td>\n",
       "      <td>False</td>\n",
       "      <td>True</td>\n",
       "    </tr>\n",
       "    <tr>\n",
       "      <th>1</th>\n",
       "      <td>OperatorType.SELECTION</td>\n",
       "      <td>CodeReference(lineno=20, col_offset=7, end_lineno=20, end_col_offset=24)</td>\n",
       "      <td>(pandas.core.frame, dropna)</td>\n",
       "      <td>dropna</td>\n",
       "      <td>False</td>\n",
       "      <td>False</td>\n",
       "    </tr>\n",
       "  </tbody>\n",
       "</table>\n",
       "</div>"
      ],
      "text/plain": [
       "     DagNode OperatorType  \\\n",
       "0       OperatorType.JOIN   \n",
       "1  OperatorType.SELECTION   \n",
       "\n",
       "                                                       DagNode CodeReference  \\\n",
       "0  CodeReference(lineno=18, col_offset=11, end_lineno=18, end_col_offset=48)   \n",
       "1   CodeReference(lineno=20, col_offset=7, end_lineno=20, end_col_offset=24)   \n",
       "\n",
       "                DagNode Module DagNode Description  \\\n",
       "0   (pandas.core.frame, merge)               on id   \n",
       "1  (pandas.core.frame, dropna)              dropna   \n",
       "\n",
       "   'race' distribution change below the configured minimum test threshold  \\\n",
       "0                                                                   False   \n",
       "1                                                                   False   \n",
       "\n",
       "   'sex' distribution change below the configured minimum test threshold  \n",
       "0                                                                   True  \n",
       "1                                                                  False  "
      ]
     },
     "metadata": {},
     "output_type": "display_data"
    }
   ],
   "source": [
    "no_bias_check_result = check_results[NoBiasIntroducedFor([\"race\", \"sex\"])]\n",
    "\n",
    "distribution_changes_overview_df = NoBiasIntroducedFor.get_distribution_changes_overview_as_df(no_bias_check_result)\n",
    "display(distribution_changes_overview_df)\n",
    "\n",
    "dag_node_distribution_changes_list = list(no_bias_check_result.bias_distribution_change.items())"
   ]
  },
  {
   "cell_type": "markdown",
   "metadata": {},
   "source": [
    "# Step 4/4 Detailed Investigation\n",
    "\n",
    "We start by looking at the first operator that could heavily change the proportion of groups in our data, the `.dropna()` selection. Then, ..."
   ]
  },
  {
   "cell_type": "code",
   "execution_count": 27,
   "metadata": {},
   "outputs": [
    {
     "name": "stdout",
     "output_type": "stream",
     "text": [
      "\u001b[1m OperatorType.JOIN CodeReference(lineno=18, col_offset=11, end_lineno=18, end_col_offset=48) ('pandas.core.frame', 'merge') on id \u001b[0m\n",
      "\n",
      "\u001b[1m Column 'race'\u001b[0m, acceptable change: True, min_relative_ratio_change: -0.07668212923401617\n"
     ]
    },
    {
     "data": {
      "text/html": [
       "<div>\n",
       "<style scoped>\n",
       "    .dataframe tbody tr th:only-of-type {\n",
       "        vertical-align: middle;\n",
       "    }\n",
       "\n",
       "    .dataframe tbody tr th {\n",
       "        vertical-align: top;\n",
       "    }\n",
       "\n",
       "    .dataframe thead th {\n",
       "        text-align: right;\n",
       "    }\n",
       "</style>\n",
       "<table border=\"1\" class=\"dataframe\">\n",
       "  <thead>\n",
       "    <tr style=\"text-align: right;\">\n",
       "      <th></th>\n",
       "      <th>sensitive_column_value</th>\n",
       "      <th>count_before</th>\n",
       "      <th>count_after</th>\n",
       "      <th>ratio_before</th>\n",
       "      <th>ratio_after</th>\n",
       "      <th>relative_ratio_change</th>\n",
       "    </tr>\n",
       "  </thead>\n",
       "  <tbody>\n",
       "    <tr>\n",
       "      <th>0</th>\n",
       "      <td>Amer-Indian-Eskimo</td>\n",
       "      <td>218</td>\n",
       "      <td>183</td>\n",
       "      <td>0.009565</td>\n",
       "      <td>0.009252</td>\n",
       "      <td>-0.032723</td>\n",
       "    </tr>\n",
       "    <tr>\n",
       "      <th>1</th>\n",
       "      <td>Asian-Pac-Islander</td>\n",
       "      <td>737</td>\n",
       "      <td>632</td>\n",
       "      <td>0.032336</td>\n",
       "      <td>0.031951</td>\n",
       "      <td>-0.011889</td>\n",
       "    </tr>\n",
       "    <tr>\n",
       "      <th>2</th>\n",
       "      <td>Black</td>\n",
       "      <td>2154</td>\n",
       "      <td>1726</td>\n",
       "      <td>0.094507</td>\n",
       "      <td>0.087260</td>\n",
       "      <td>-0.076682</td>\n",
       "    </tr>\n",
       "    <tr>\n",
       "      <th>3</th>\n",
       "      <td>Other</td>\n",
       "      <td>197</td>\n",
       "      <td>164</td>\n",
       "      <td>0.008643</td>\n",
       "      <td>0.008291</td>\n",
       "      <td>-0.040746</td>\n",
       "    </tr>\n",
       "    <tr>\n",
       "      <th>4</th>\n",
       "      <td>White</td>\n",
       "      <td>19486</td>\n",
       "      <td>17075</td>\n",
       "      <td>0.854949</td>\n",
       "      <td>0.863246</td>\n",
       "      <td>0.009704</td>\n",
       "    </tr>\n",
       "  </tbody>\n",
       "</table>\n",
       "</div>"
      ],
      "text/plain": [
       "  sensitive_column_value  count_before  count_after  ratio_before  \\\n",
       "0     Amer-Indian-Eskimo           218          183      0.009565   \n",
       "1     Asian-Pac-Islander           737          632      0.032336   \n",
       "2                  Black          2154         1726      0.094507   \n",
       "3                  Other           197          164      0.008643   \n",
       "4                  White         19486        17075      0.854949   \n",
       "\n",
       "   ratio_after  relative_ratio_change  \n",
       "0     0.009252              -0.032723  \n",
       "1     0.031951              -0.011889  \n",
       "2     0.087260              -0.076682  \n",
       "3     0.008291              -0.040746  \n",
       "4     0.863246               0.009704  "
      ]
     },
     "metadata": {},
     "output_type": "display_data"
    },
    {
     "data": {
      "image/png": "[encoded data removed]",
      "text/plain": [
       "<Figure size 864x288 with 2 Axes>"
      ]
     },
     "metadata": {
      "needs_background": "light"
     },
     "output_type": "display_data"
    },
    {
     "name": "stdout",
     "output_type": "stream",
     "text": [
      "\n",
      "\u001b[1m Column 'sex'\u001b[0m, acceptable change: False, min_relative_ratio_change: -0.30857378313218065\n"
     ]
    },
    {
     "data": {
      "text/html": [
       "<div>\n",
       "<style scoped>\n",
       "    .dataframe tbody tr th:only-of-type {\n",
       "        vertical-align: middle;\n",
       "    }\n",
       "\n",
       "    .dataframe tbody tr th {\n",
       "        vertical-align: top;\n",
       "    }\n",
       "\n",
       "    .dataframe thead th {\n",
       "        text-align: right;\n",
       "    }\n",
       "</style>\n",
       "<table border=\"1\" class=\"dataframe\">\n",
       "  <thead>\n",
       "    <tr style=\"text-align: right;\">\n",
       "      <th></th>\n",
       "      <th>sensitive_column_value</th>\n",
       "      <th>count_before</th>\n",
       "      <th>count_after</th>\n",
       "      <th>ratio_before</th>\n",
       "      <th>ratio_after</th>\n",
       "      <th>relative_ratio_change</th>\n",
       "    </tr>\n",
       "  </thead>\n",
       "  <tbody>\n",
       "    <tr>\n",
       "      <th>0</th>\n",
       "      <td>Female</td>\n",
       "      <td>7531</td>\n",
       "      <td>4519</td>\n",
       "      <td>0.330423</td>\n",
       "      <td>0.228463</td>\n",
       "      <td>-0.308574</td>\n",
       "    </tr>\n",
       "    <tr>\n",
       "      <th>1</th>\n",
       "      <td>Male</td>\n",
       "      <td>15261</td>\n",
       "      <td>15261</td>\n",
       "      <td>0.669577</td>\n",
       "      <td>0.771537</td>\n",
       "      <td>0.152275</td>\n",
       "    </tr>\n",
       "  </tbody>\n",
       "</table>\n",
       "</div>"
      ],
      "text/plain": [
       "  sensitive_column_value  count_before  count_after  ratio_before  \\\n",
       "0                 Female          7531         4519      0.330423   \n",
       "1                   Male         15261        15261      0.669577   \n",
       "\n",
       "   ratio_after  relative_ratio_change  \n",
       "0     0.228463              -0.308574  \n",
       "1     0.771537               0.152275  "
      ]
     },
     "metadata": {},
     "output_type": "display_data"
    },
    {
     "data": {
      "image/png": "[encoded data removed]",
      "text/plain": [
       "<Figure size 864x288 with 2 Axes>"
      ]
     },
     "metadata": {
      "needs_background": "light"
     },
     "output_type": "display_data"
    }
   ],
   "source": [
    "# Select the DagNode we want to look at by index\n",
    "selection, selection_distribution_changes = dag_node_distribution_changes_list[0]\n",
    "\n",
    "# Investige the changes\n",
    "print('\\033[1m', selection.operator_type, selection.code_reference, selection.module, selection.description, '\\033[0m')\n",
    "for column, distribution_change in selection_distribution_changes.items():\n",
    "    print(\"\")\n",
    "    print(\"\\033[1m Column '{}'\\033[0m, acceptable change: {}, min_relative_ratio_change: {}\".format(column, distribution_change.acceptable_change, distribution_change.min_relative_ratio_change))\n",
    "    display(distribution_change.before_and_after_df)\n",
    "    NoBiasIntroducedFor.plot_distribution_change_histograms(distribution_change)"
   ]
  },
  {
   "cell_type": "markdown",
   "metadata": {},
   "source": [
    "# Solution: Did we find operators that introduce bias? How much did the distribution change?"
   ]
  },
  {
   "cell_type": "markdown",
   "metadata": {},
   "source": [
    "**TODO:** ..."
   ]
  },
  {
   "cell_type": "code",
   "execution_count": null,
   "metadata": {},
   "outputs": [],
   "source": []
  }
 ],
 "metadata": {
  "kernelspec": {
   "display_name": "Python 3",
   "language": "python",
   "name": "python3"
  },
  "language_info": {
   "codemirror_mode": {
    "name": "ipython",
    "version": 3
   },
   "file_extension": ".py",
   "mimetype": "text/x-python",
   "name": "python",
   "nbconvert_exporter": "python",
   "pygments_lexer": "ipython3",
   "version": "3.8.5"
  }
 },
 "nbformat": 4,
 "nbformat_minor": 4
}
