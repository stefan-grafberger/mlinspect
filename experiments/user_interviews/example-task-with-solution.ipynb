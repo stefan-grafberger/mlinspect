{
 "cells": [
  {
   "cell_type": "markdown",
   "metadata": {},
   "source": [
    "# Task\n",
    "\n",
    "Operators like joins, selections and missing value imputaters can cause *data distribution issues*, which can heavily impact the performance of our model for specific demographic groups. Mlinspect helps with identifying such issues by offering a check that calculates histograms for sensitive groups in the data and verifying whether the histogram change is significant enough to alert the user. Thanks to our annotation propagation, we can deal with complex code involving things like nested sklearn pipelines and group memberships that are removed from the training data using projections.\n",
    "\n",
    "We want to find out if preprocessing operations in pipelines introduce bias and if so, which groups are effected.\n",
    "The pipeline we want to analyse in this task can be found using the path `os.path.join(str(get_project_root()), \"experiments\", \"user_interviews\", \"adult_simple_modified.py\")`. The senstive attributes we want to take a look at are `race` and `sex`. \n",
    "\n",
    "It is using a benchmark dataset frequently used in the algorithmic fairness literature. `Adult income` contains information about 33,000 individuals from the 1994 U.S. census, with sensitive attributes gender and race. The corresponding task is to predict whether the annual income of an individual exceeds $50,000. We took this existing data set and only modified it slightly by introducing an artificial issue which we will now try to find using mlinspect.\n",
    "\n",
    "\n",
    "The code of the pipeline:\n",
    "> ```python\n",
    "> \"\"\"\n",
    "> Adult income pipeline\n",
    "> \"\"\"\n",
    "> import os\n",
    "> import pandas as pd\n",
    "> from sklearn import compose, preprocessing, tree, pipeline\n",
    "> \n",
    "> from mlinspect.utils import get_project_root\n",
    "> \n",
    "> print('pipeline start')\n",
    "> \n",
    "> train_file_a = os.path.join(str(get_project_root()), \"experiments\", \"user_interviews\", \"adult_simple_train_a.csv\")\n",
    "> raw_data_a = pd.read_csv(train_file_a, na_values='?', index_col=0)\n",
    "> \n",
    "> train_file_b = os.path.join(str(get_project_root()), \"experiments\", \"user_interviews\", \"adult_simple_train_b.csv\")\n",
    "> raw_data_b = pd.read_csv(train_file_b, na_values='?', index_col=0)\n",
    "> \n",
    "> merged_raw_data = raw_data_a.merge(raw_data_b, on=\"id\")\n",
    "> \n",
    "> data = merged_raw_data.dropna()\n",
    "> \n",
    "> labels = preprocessing.label_binarize(data['income-per-year'], classes=['>50K', '<=50K'])\n",
    "> \n",
    "> column_transformer = compose.ColumnTransformer(transformers=[\n",
    ">     ('categorical', preprocessing.OneHotEncoder(handle_unknown='ignore'), ['education', 'workclass']),\n",
    ">     ('numeric', preprocessing.StandardScaler(), ['age', 'hours-per-week'])\n",
    "> ])\n",
    "> adult_income_pipeline = pipeline.Pipeline([\n",
    ">     ('features', column_transformer),\n",
    ">     ('classifier', tree.DecisionTreeClassifier())])\n",
    "> \n",
    "> adult_income_pipeline.fit(data, labels)\n",
    "> print('pipeline finished')\n",
    "> ```"
   ]
  },
  {
   "cell_type": "markdown",
   "metadata": {},
   "source": [
    "# Step 1/4: Add check and execute the pipeline\n",
    "\n",
    "The central entry point of mlinspect is the `PipelineInspector`. To use mlinspect, we use it and pass it the path to the runnable version of the example pipeline. Here, we have the example pipeline in a `.py` file. \n",
    "\n",
    "First, we define the check we want mlinspect to run. In this example, we only use `NoBiasIntroducedFor([\"col1\", \"col2\", ...])` to automatically check for significant changes in the distribution of sensitive demograhpic groups and compute the histograms.\n",
    "\n",
    "Then, we execute the pipeline. Mlinspect returns a `InspectorResult`, which, among other information, contains the output of our check. "
   ]
  },
  {
   "cell_type": "code",
   "execution_count": 1,
   "metadata": {},
   "outputs": [
    {
     "name": "stdout",
     "output_type": "stream",
     "text": [
      "pipeline start\n",
      "pipeline finished\n"
     ]
    }
   ],
   "source": [
    "import os\n",
    "from mlinspect.utils import get_project_root\n",
    "\n",
    "from mlinspect import PipelineInspector\n",
    "from mlinspect.checks import NoBiasIntroducedFor\n",
    "\n",
    "ADULT_MOD_FILE_PY = os.path.join(str(get_project_root()), \"experiments\", \"user_interviews\", \"adult_simple_modified.py\")\n",
    "\n",
    "inspector_result = PipelineInspector\\\n",
    "    .on_pipeline_from_py_file(ADULT_MOD_FILE_PY) \\\n",
    "    .add_check(NoBiasIntroducedFor([\"race\", \"sex\"])) \\\n",
    "    .execute()\n",
    "\n",
    "check_results = inspector_result.check_to_check_results"
   ]
  },
  {
   "cell_type": "markdown",
   "metadata": {},
   "source": [
    "# Step 2/4: Overview of the check results\n",
    "## Did our check find issues?\n",
    "\n",
    "Let us look at the `check_result` to see our some check failed. We do this using the mlinspect utlity function `check_results_as_data_frame(...)`. We see that an issue was found, so we have to investigate it."
   ]
  },
  {
   "cell_type": "code",
   "execution_count": 2,
   "metadata": {},
   "outputs": [
    {
     "data": {
      "text/html": [
       "<div>\n",
       "<style scoped>\n",
       "    .dataframe tbody tr th:only-of-type {\n",
       "        vertical-align: middle;\n",
       "    }\n",
       "\n",
       "    .dataframe tbody tr th {\n",
       "        vertical-align: top;\n",
       "    }\n",
       "\n",
       "    .dataframe thead th {\n",
       "        text-align: right;\n",
       "    }\n",
       "</style>\n",
       "<table border=\"1\" class=\"dataframe\">\n",
       "  <thead>\n",
       "    <tr style=\"text-align: right;\">\n",
       "      <th></th>\n",
       "      <th>check_name</th>\n",
       "      <th>status</th>\n",
       "      <th>description</th>\n",
       "    </tr>\n",
       "  </thead>\n",
       "  <tbody>\n",
       "    <tr>\n",
       "      <th>0</th>\n",
       "      <td>NoBiasIntroducedFor((('race', 'sex'), -0.3))</td>\n",
       "      <td>CheckStatus.FAILURE</td>\n",
       "      <td>A Join causes a min_relative_ratio_change of 'sex' by -0.4009821195113874, a value below the configured minimum threshold -0.3!</td>\n",
       "    </tr>\n",
       "  </tbody>\n",
       "</table>\n",
       "</div>"
      ],
      "text/plain": [
       "                                     check_name               status  \\\n",
       "0  NoBiasIntroducedFor((('race', 'sex'), -0.3))  CheckStatus.FAILURE   \n",
       "\n",
       "                                                                                                                       description  \n",
       "0  A Join causes a min_relative_ratio_change of 'sex' by -0.4009821195113874, a value below the configured minimum threshold -0.3!  "
      ]
     },
     "metadata": {},
     "output_type": "display_data"
    }
   ],
   "source": [
    "from IPython.display import display\n",
    "import pandas as pd\n",
    "pd.set_option('display.max_colwidth', None)\n",
    "\n",
    "check_result_df = PipelineInspector.check_results_as_data_frame(check_results)\n",
    "display(check_result_df)"
   ]
  },
  {
   "cell_type": "markdown",
   "metadata": {},
   "source": [
    "# Step 3/4: List of operations that could change the distribution \n",
    "\n",
    "As stated before, only some operations like selections, joins and missing value imputation can change the distribution. Our check already filtered all operators that can cause data distribution issues. We can use the mlinspect utility function `get_distribution_changes_overview_as_df(...)` to get an overview. The overview already tells us that mlinspect detected a potential issue caused by a JOIN involving the gender attribute. Note that the automatic issue detection from mlinspect is only as good as its configuration and should not be completely relied upon."
   ]
  },
  {
   "cell_type": "code",
   "execution_count": 3,
   "metadata": {},
   "outputs": [
    {
     "data": {
      "text/html": [
       "<div>\n",
       "<style scoped>\n",
       "    .dataframe tbody tr th:only-of-type {\n",
       "        vertical-align: middle;\n",
       "    }\n",
       "\n",
       "    .dataframe tbody tr th {\n",
       "        vertical-align: top;\n",
       "    }\n",
       "\n",
       "    .dataframe thead th {\n",
       "        text-align: right;\n",
       "    }\n",
       "</style>\n",
       "<table border=\"1\" class=\"dataframe\">\n",
       "  <thead>\n",
       "    <tr style=\"text-align: right;\">\n",
       "      <th></th>\n",
       "      <th>operator_type</th>\n",
       "      <th>description</th>\n",
       "      <th>code_reference</th>\n",
       "      <th>source_code</th>\n",
       "      <th>module</th>\n",
       "      <th>'race' distribution change below the configured minimum test threshold</th>\n",
       "      <th>'sex' distribution change below the configured minimum test threshold</th>\n",
       "    </tr>\n",
       "  </thead>\n",
       "  <tbody>\n",
       "    <tr>\n",
       "      <th>0</th>\n",
       "      <td>OperatorType.JOIN</td>\n",
       "      <td>on 'id'</td>\n",
       "      <td>CodeReference(lineno=18, col_offset=18, end_lineno=18, end_col_offset=55)</td>\n",
       "      <td>raw_data_a.merge(raw_data_b, on=\"id\")</td>\n",
       "      <td>FunctionInfo(module='pandas.core.frame', function_name='merge')</td>\n",
       "      <td>False</td>\n",
       "      <td>True</td>\n",
       "    </tr>\n",
       "    <tr>\n",
       "      <th>1</th>\n",
       "      <td>OperatorType.SELECTION</td>\n",
       "      <td>dropna</td>\n",
       "      <td>CodeReference(lineno=20, col_offset=7, end_lineno=20, end_col_offset=31)</td>\n",
       "      <td>merged_raw_data.dropna()</td>\n",
       "      <td>FunctionInfo(module='pandas.core.frame', function_name='dropna')</td>\n",
       "      <td>False</td>\n",
       "      <td>False</td>\n",
       "    </tr>\n",
       "  </tbody>\n",
       "</table>\n",
       "</div>"
      ],
      "text/plain": [
       "            operator_type description  \\\n",
       "0       OperatorType.JOIN     on 'id'   \n",
       "1  OperatorType.SELECTION      dropna   \n",
       "\n",
       "                                                              code_reference  \\\n",
       "0  CodeReference(lineno=18, col_offset=18, end_lineno=18, end_col_offset=55)   \n",
       "1   CodeReference(lineno=20, col_offset=7, end_lineno=20, end_col_offset=31)   \n",
       "\n",
       "                             source_code  \\\n",
       "0  raw_data_a.merge(raw_data_b, on=\"id\")   \n",
       "1               merged_raw_data.dropna()   \n",
       "\n",
       "                                                             module  \\\n",
       "0   FunctionInfo(module='pandas.core.frame', function_name='merge')   \n",
       "1  FunctionInfo(module='pandas.core.frame', function_name='dropna')   \n",
       "\n",
       "   'race' distribution change below the configured minimum test threshold  \\\n",
       "0                                                                   False   \n",
       "1                                                                   False   \n",
       "\n",
       "   'sex' distribution change below the configured minimum test threshold  \n",
       "0                                                                   True  \n",
       "1                                                                  False  "
      ]
     },
     "metadata": {},
     "output_type": "display_data"
    }
   ],
   "source": [
    "no_bias_check_result = check_results[NoBiasIntroducedFor([\"race\", \"sex\"])]\n",
    "\n",
    "distribution_changes_overview_df = NoBiasIntroducedFor.get_distribution_changes_overview_as_df(no_bias_check_result)\n",
    "display(distribution_changes_overview_df)\n",
    "\n",
    "dag_node_distribution_changes_list = list(no_bias_check_result.bias_distribution_change.items())"
   ]
  },
  {
   "cell_type": "markdown",
   "metadata": {},
   "source": [
    "# Step 4/4 Detailed Investigation\n",
    "\n",
    "Now that we know of the potential issue, we will take a look at the histograms before and after the JOIN. We can use `distribution_change.before_and_after_df` to look at the data in form of a `pandas.DataFrame` or use the mlinspect utility function `plot_distribution_change_histograms(...)` to plot the histograms. "
   ]
  },
  {
   "cell_type": "code",
   "execution_count": 4,
   "metadata": {},
   "outputs": [
    {
     "name": "stdout",
     "output_type": "stream",
     "text": [
      "\u001b[1mOperatorType.JOIN: raw_data_a.merge(raw_data_b, on=\"id\")\u001b[0m\n",
      "\n",
      "\u001b[1m Column 'race'\u001b[0m, acceptable change: True, min_relative_ratio_change: -0.10798782300224391\n"
     ]
    },
    {
     "data": {
      "text/html": [
       "<div>\n",
       "<style scoped>\n",
       "    .dataframe tbody tr th:only-of-type {\n",
       "        vertical-align: middle;\n",
       "    }\n",
       "\n",
       "    .dataframe tbody tr th {\n",
       "        vertical-align: top;\n",
       "    }\n",
       "\n",
       "    .dataframe thead th {\n",
       "        text-align: right;\n",
       "    }\n",
       "</style>\n",
       "<table border=\"1\" class=\"dataframe\">\n",
       "  <thead>\n",
       "    <tr style=\"text-align: right;\">\n",
       "      <th></th>\n",
       "      <th>sensitive_column_value</th>\n",
       "      <th>count_before</th>\n",
       "      <th>count_after</th>\n",
       "      <th>ratio_before</th>\n",
       "      <th>ratio_after</th>\n",
       "      <th>relative_ratio_change</th>\n",
       "    </tr>\n",
       "  </thead>\n",
       "  <tbody>\n",
       "    <tr>\n",
       "      <th>0</th>\n",
       "      <td>Amer-Indian-Eskimo</td>\n",
       "      <td>218</td>\n",
       "      <td>180</td>\n",
       "      <td>0.009565</td>\n",
       "      <td>0.009460</td>\n",
       "      <td>-0.010927</td>\n",
       "    </tr>\n",
       "    <tr>\n",
       "      <th>1</th>\n",
       "      <td>Asian-Pac-Islander</td>\n",
       "      <td>737</td>\n",
       "      <td>623</td>\n",
       "      <td>0.032336</td>\n",
       "      <td>0.032743</td>\n",
       "      <td>0.012588</td>\n",
       "    </tr>\n",
       "    <tr>\n",
       "      <th>2</th>\n",
       "      <td>Black</td>\n",
       "      <td>2154</td>\n",
       "      <td>1604</td>\n",
       "      <td>0.094507</td>\n",
       "      <td>0.084301</td>\n",
       "      <td>-0.107988</td>\n",
       "    </tr>\n",
       "    <tr>\n",
       "      <th>3</th>\n",
       "      <td>Other</td>\n",
       "      <td>197</td>\n",
       "      <td>158</td>\n",
       "      <td>0.008643</td>\n",
       "      <td>0.008304</td>\n",
       "      <td>-0.039266</td>\n",
       "    </tr>\n",
       "    <tr>\n",
       "      <th>4</th>\n",
       "      <td>White</td>\n",
       "      <td>19486</td>\n",
       "      <td>16462</td>\n",
       "      <td>0.854949</td>\n",
       "      <td>0.865192</td>\n",
       "      <td>0.011980</td>\n",
       "    </tr>\n",
       "  </tbody>\n",
       "</table>\n",
       "</div>"
      ],
      "text/plain": [
       "  sensitive_column_value  count_before  count_after  ratio_before  \\\n",
       "0     Amer-Indian-Eskimo           218          180      0.009565   \n",
       "1     Asian-Pac-Islander           737          623      0.032336   \n",
       "2                  Black          2154         1604      0.094507   \n",
       "3                  Other           197          158      0.008643   \n",
       "4                  White         19486        16462      0.854949   \n",
       "\n",
       "   ratio_after  relative_ratio_change  \n",
       "0     0.009460              -0.010927  \n",
       "1     0.032743               0.012588  \n",
       "2     0.084301              -0.107988  \n",
       "3     0.008304              -0.039266  \n",
       "4     0.865192               0.011980  "
      ]
     },
     "metadata": {},
     "output_type": "display_data"
    },
    {
     "data": {
      "image/png": "[encoded data removed]",
      "text/plain": [
       "<Figure size 864x288 with 2 Axes>"
      ]
     },
     "metadata": {
      "needs_background": "light"
     },
     "output_type": "display_data"
    },
    {
     "name": "stdout",
     "output_type": "stream",
     "text": [
      "\n",
      "\u001b[1m Column 'sex'\u001b[0m, acceptable change: False, min_relative_ratio_change: -0.4009821195113874\n"
     ]
    },
    {
     "data": {
      "text/html": [
       "<div>\n",
       "<style scoped>\n",
       "    .dataframe tbody tr th:only-of-type {\n",
       "        vertical-align: middle;\n",
       "    }\n",
       "\n",
       "    .dataframe tbody tr th {\n",
       "        vertical-align: top;\n",
       "    }\n",
       "\n",
       "    .dataframe thead th {\n",
       "        text-align: right;\n",
       "    }\n",
       "</style>\n",
       "<table border=\"1\" class=\"dataframe\">\n",
       "  <thead>\n",
       "    <tr style=\"text-align: right;\">\n",
       "      <th></th>\n",
       "      <th>sensitive_column_value</th>\n",
       "      <th>count_before</th>\n",
       "      <th>count_after</th>\n",
       "      <th>ratio_before</th>\n",
       "      <th>ratio_after</th>\n",
       "      <th>relative_ratio_change</th>\n",
       "    </tr>\n",
       "  </thead>\n",
       "  <tbody>\n",
       "    <tr>\n",
       "      <th>0</th>\n",
       "      <td>Female</td>\n",
       "      <td>7531</td>\n",
       "      <td>3766</td>\n",
       "      <td>0.330423</td>\n",
       "      <td>0.197929</td>\n",
       "      <td>-0.400982</td>\n",
       "    </tr>\n",
       "    <tr>\n",
       "      <th>1</th>\n",
       "      <td>Male</td>\n",
       "      <td>15261</td>\n",
       "      <td>15261</td>\n",
       "      <td>0.669577</td>\n",
       "      <td>0.802071</td>\n",
       "      <td>0.197877</td>\n",
       "    </tr>\n",
       "  </tbody>\n",
       "</table>\n",
       "</div>"
      ],
      "text/plain": [
       "  sensitive_column_value  count_before  count_after  ratio_before  \\\n",
       "0                 Female          7531         3766      0.330423   \n",
       "1                   Male         15261        15261      0.669577   \n",
       "\n",
       "   ratio_after  relative_ratio_change  \n",
       "0     0.197929              -0.400982  \n",
       "1     0.802071               0.197877  "
      ]
     },
     "metadata": {},
     "output_type": "display_data"
    },
    {
     "data": {
      "image/png": "[encoded data removed]",
      "text/plain": [
       "<Figure size 864x288 with 2 Axes>"
      ]
     },
     "metadata": {
      "needs_background": "light"
     },
     "output_type": "display_data"
    }
   ],
   "source": [
    "# Select the DagNode we want to look at by index\n",
    "dag_node, node_distribution_changes = dag_node_distribution_changes_list[0]\n",
    "\n",
    "# Investige the changes\n",
    "print(\"\\033[1m{}: {}\\033[0m\".format(dag_node.operator_info.operator, dag_node.optional_code_info.source_code))\n",
    "for column, distribution_change in node_distribution_changes.items():\n",
    "    print(\"\")\n",
    "    print(\"\\033[1m Column '{}'\\033[0m, acceptable change: {}, min_relative_ratio_change: {}\".format(column, distribution_change.acceptable_change, distribution_change.min_relative_ratio_change))\n",
    "    display(distribution_change.before_and_after_df)\n",
    "    NoBiasIntroducedFor.plot_distribution_change_histograms(distribution_change)"
   ]
  },
  {
   "cell_type": "markdown",
   "metadata": {},
   "source": [
    "# Solution: Did we find operators that introduce bias? How did the distribution of demographic groups change?"
   ]
  },
  {
   "cell_type": "markdown",
   "metadata": {},
   "source": [
    "**My anser:** The join filters a lot of data points with `sex=Female`. This is because there are a lot of missing join keys in one of the datasets, but only for one of the two demograhpic groups in our example. As a workaround, we could, e.g., consider using an outer join instead of an inner join."
   ]
  },
  {
   "cell_type": "code",
   "execution_count": null,
   "metadata": {},
   "outputs": [],
   "source": []
  }
 ],
 "metadata": {
  "kernelspec": {
   "display_name": "Python 3",
   "language": "python",
   "name": "python3"
  },
  "language_info": {
   "codemirror_mode": {
    "name": "ipython",
    "version": 3
   },
   "file_extension": ".py",
   "mimetype": "text/x-python",
   "name": "python",
   "nbconvert_exporter": "python",
   "pygments_lexer": "ipython3",
   "version": "3.9.2"
  }
 },
 "nbformat": 4,
 "nbformat_minor": 4
}
