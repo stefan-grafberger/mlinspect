{
 "cells": [
  {
   "cell_type": "markdown",
   "metadata": {},
   "source": [
    "# Setup\n",
    "\n",
    "The necessary imports and a simple function to plot histograms"
   ]
  },
  {
   "cell_type": "code",
   "execution_count": 1,
   "metadata": {},
   "outputs": [],
   "source": [
    "import os\n",
    "import matplotlib.pyplot as plt\n",
    "\n",
    "from mlinspect.inspections.histogram_inspection import HistogramInspection\n",
    "from mlinspect.checks.no_bias_introduced_for_constraint import NoBiasIntroducedForConstraint\n",
    "from mlinspect.checks.no_illegal_features_constraint import NoIllegalFeaturesConstraint\n",
    "from mlinspect.checks.check import Check\n",
    "from demo.healthcare.no_missing_embeddings_constraint import NoMissingEmbeddingsConstraint\n",
    "from mlinspect.inspections.lineage_inspection import LineageInspection\n",
    "from mlinspect.inspections.materialize_first_rows_inspection import MaterializeFirstRowsInspection\n",
    "from mlinspect.pipeline_inspector import PipelineInspector\n",
    "from mlinspect.visualisation import save_fig_to_path\n",
    "from mlinspect.utils import get_project_root\n",
    "from mlinspect.instrumentation.dag_node import OperatorType\n",
    "import pandas as pd\n",
    "from IPython.display import display, HTML\n",
    "\n",
    "import warnings\n",
    "warnings.filterwarnings('ignore')"
   ]
  },
  {
   "cell_type": "code",
   "execution_count": 2,
   "metadata": {},
   "outputs": [],
   "source": [
    "def print_dag_operator_histograms(constraint_result, attribute):    \n",
    "    print(\"{} histogram\".format(attribute))\n",
    "            \n",
    "    plt.subplot(1, 2, 1)        \n",
    "    before_output_race_group = constraint_result[attribute].before_map\n",
    "    keys = [str(key) for key in before_output_race_group.keys()]\n",
    "    plt.bar(keys, before_output_race_group.values())\n",
    "    plt.gca().set_title(\"before\")\n",
    "   \n",
    "    plt.subplot(1, 2, 2)\n",
    "    after_output_race_group = constraint_result[attribute].after_map\n",
    "    keys = [str(key) for key in after_output_race_group.keys()]\n",
    "    plt.bar(keys, after_output_race_group.values())\n",
    "    plt.gca().set_title(\"after\")\n",
    "    \n",
    "    fig = plt.gcf()\n",
    "    fig.set_size_inches(12, 4)\n",
    "    plt.show()"
   ]
  },
  {
   "cell_type": "markdown",
   "metadata": {},
   "source": [
    "# Task description\n",
    "\n",
    "Operators like joins, selections and missing value imputaters can cause *data distribution issues*, which can heavily impact the performance of our model. Mlinspect helps with identifying such issues by offering an inspection to calculate historams for sensitive groups. Thanks to our annotation propagation, this works even if the group columns are projected out at some point. To automatically check for significant changes and compute the histograms, we used the `no_bias_introduced_for(...)` constraint.\n",
    "\n",
    "We want to find out if preprocessing operations in this pipeline introduce bias and if so, which groups are effected.\n",
    "The pipeline we want to analyse can be found using the path `os.path.join(str(get_project_root()), \"example_pipelines\", \"compas\", \"compas.py\")`. Its code:\n",
    "\n",
    "```python\n",
    "\"\"\"\n",
    "An example pipeline\n",
    "\"\"\"\n",
    "import os\n",
    "\n",
    "import pandas as pd\n",
    "from sklearn.compose import ColumnTransformer\n",
    "from sklearn.impute import SimpleImputer\n",
    "from sklearn.linear_model import LogisticRegression\n",
    "from sklearn.pipeline import Pipeline\n",
    "from sklearn.preprocessing import OneHotEncoder, KBinsDiscretizer, label_binarize\n",
    "\n",
    "from mlinspect.utils import get_project_root\n",
    "\n",
    "train_file = os.path.join(str(get_project_root()), \"example_pipelines\", \"compas\", \"compas_train.csv\")\n",
    "train_data = pd.read_csv(train_file, na_values='?', index_col=0)\n",
    "test_file = os.path.join(str(get_project_root()), \"example_pipelines\", \"compas\", \"compas_test.csv\")\n",
    "test_data = pd.read_csv(test_file, na_values='?', index_col=0)\n",
    "\n",
    "train_data = train_data[\n",
    "    ['sex', 'dob', 'age', 'c_charge_degree', 'race', 'score_text', 'priors_count', 'days_b_screening_arrest',\n",
    "     'decile_score', 'is_recid', 'two_year_recid', 'c_jail_in', 'c_jail_out']]\n",
    "test_data = test_data[\n",
    "    ['sex', 'dob', 'age', 'c_charge_degree', 'race', 'score_text', 'priors_count', 'days_b_screening_arrest',\n",
    "     'decile_score', 'is_recid', 'two_year_recid', 'c_jail_in', 'c_jail_out']]\n",
    "\n",
    "train_data = train_data[(train_data['days_b_screening_arrest'] <= 30) & (train_data['days_b_screening_arrest'] >= -30)]\n",
    "train_data = train_data[train_data['is_recid'] != -1]\n",
    "train_data = train_data[train_data['c_charge_degree'] != \"O\"]\n",
    "train_data = train_data[train_data['score_text'] != 'N/A']\n",
    "\n",
    "train_data = train_data.replace('Medium', \"Low\")\n",
    "test_data = test_data.replace('Medium', \"Low\")\n",
    "\n",
    "train_labels = label_binarize(train_data['score_text'], classes=['High', 'Low'])\n",
    "test_labels = label_binarize(test_data['score_text'], classes=['High', 'Low'])\n",
    "\n",
    "impute1_and_onehot = Pipeline([('imputer1', SimpleImputer(strategy='most_frequent')),\n",
    "                               ('onehot', OneHotEncoder(handle_unknown='ignore'))])\n",
    "impute2_and_bin = Pipeline([('imputer2', SimpleImputer(strategy='mean')),\n",
    "                            ('discretizer', KBinsDiscretizer(n_bins=4, encode='ordinal', strategy='uniform'))])\n",
    "\n",
    "featurizer = ColumnTransformer(transformers=[\n",
    "    ('impute1_and_onehot', impute1_and_onehot, ['is_recid']),\n",
    "    ('impute2_and_bin', impute2_and_bin, ['age'])\n",
    "])\n",
    "\n",
    "pipeline = Pipeline([\n",
    "    ('features', featurizer),\n",
    "    ('classifier', LogisticRegression())\n",
    "])\n",
    "\n",
    "pipeline.fit(train_data, train_labels.ravel())\n",
    "print(pipeline.score(test_data, test_labels.ravel()))\n",
    "\n",
    "```\n",
    "\n",
    "The COMPAS dataset contains information about 6,889 criminal defendants in Broward County, FL, along with pre- dictions of their recidivism risk, as produced by a commercial tool called COMPAS. The sensitive attributes include gender and race. The task is to predict whether a defendant is likely re-offend. "
   ]
  },
  {
   "cell_type": "markdown",
   "metadata": {},
   "source": [
    "# Step 1/3: Add inspections and execute the pipeline\n",
    "\n",
    "The central entry point of mlinspect is the `PipelineInspector`. To use mlinspect, we use it and pass it the path to the runnable version of the example pipeline. Here, we have the example pipeline in a `.py` file. \n",
    "\n",
    "First, we define the check we want mlinspect to run. In this example, we only use 1 check to compute histograms of sensitive groups and verify operators cause no significant distribution changes.\n",
    "\n",
    "Then, we execute the pipeline. Mlinspect returns a `InspectorResult`, which contains the output of our check. "
   ]
  },
  {
   "cell_type": "code",
   "execution_count": 3,
   "metadata": {},
   "outputs": [
    {
     "name": "stdout",
     "output_type": "stream",
     "text": [
      "0.8078521939953811\n"
     ]
    }
   ],
   "source": [
    "HEALTHCARE_FILE_PY = os.path.join(str(get_project_root()), \"example_pipelines\", \"compas\", \"compas.py\")\n",
    "\n",
    "check = Check()\\\n",
    "    .no_bias_introduced_for(['sex', 'race'])\\\n",
    "\n",
    "inspector_result = PipelineInspector\\\n",
    "    .on_pipeline_from_py_file(HEALTHCARE_FILE_PY) \\\n",
    "    .add_check(check) \\\n",
    "    .execute()\n",
    "\n",
    "inspection_results = inspector_result.inspection_to_annotations\n",
    "check_result = inspector_result.check_to_check_results[check]"
   ]
  },
  {
   "cell_type": "markdown",
   "metadata": {},
   "source": [
    "# Step 2/3: Overview of the check results\n",
    "## Did our check find issues?\n",
    "\n",
    "Let us look at the `check_result` to see whether some constraints failed. We see that some constraints failed and investigate which ones. As all 3 failed, we will look into each result in detail.\n",
    "\n",
    "Our check already filtered all operators that can cause data distribution issues. Now we will use the result to create list with all distribution changes and visualize them. Using this, we can investigate the changes of the different operators one at a time."
   ]
  },
  {
   "cell_type": "code",
   "execution_count": 4,
   "metadata": {},
   "outputs": [
    {
     "name": "stdout",
     "output_type": "stream",
     "text": [
      "CheckStatus.ERROR\n",
      "\n",
      "NoBiasIntroducedForConstraint((('sex', 'race'), 0.3)): ConstraintStatus.FAILURE\n",
      "\n",
      "Dag nodes that could have changed the distribution:\n",
      "\u001b[1m\n",
      "OperatorType.SELECTION CodeReference(lineno=27, col_offset=13, end_lineno=27, end_col_offset=119) ('pandas.core.frame', '__getitem__', 'Selection') Select by series (indirectly using 'days_b_screening_arrest') \u001b[0m\n",
      "Sensitive column 'sex': No distribution change above the test threshold.\n",
      "Sensitive column 'race': \u001b[1mThe distribution changed too much!\u001b[0m\n",
      "\u001b[1m\n",
      "OperatorType.SELECTION CodeReference(lineno=28, col_offset=13, end_lineno=28, end_col_offset=53) ('pandas.core.frame', '__getitem__', 'Selection') Select by series (indirectly using 'is_recid') \u001b[0m\n",
      "Sensitive column 'sex': No distribution change above the test threshold.\n",
      "Sensitive column 'race': No distribution change above the test threshold.\n",
      "\u001b[1m\n",
      "OperatorType.SELECTION CodeReference(lineno=29, col_offset=13, end_lineno=29, end_col_offset=61) ('pandas.core.frame', '__getitem__', 'Selection') Select by series (indirectly using 'c_charge_degree') \u001b[0m\n",
      "Sensitive column 'sex': No distribution change above the test threshold.\n",
      "Sensitive column 'race': No distribution change above the test threshold.\n",
      "\u001b[1m\n",
      "OperatorType.SELECTION CodeReference(lineno=30, col_offset=13, end_lineno=30, end_col_offset=58) ('pandas.core.frame', '__getitem__', 'Selection') Select by series (indirectly using 'score_text') \u001b[0m\n",
      "Sensitive column 'sex': No distribution change above the test threshold.\n",
      "Sensitive column 'race': No distribution change above the test threshold.\n"
     ]
    }
   ],
   "source": [
    "print(check_result.status)\n",
    "print(\"\")\n",
    "for constraint_result in check_result.constraint_results.values():\n",
    "    print(\"{}: {}\".format(constraint_result.constraint, constraint_result.status))\n",
    "    \n",
    "no_bias_introduced_result = check_result.constraint_results[NoBiasIntroducedForConstraint([\"sex\", \"race\"])]\n",
    "\n",
    "print(\"\")\n",
    "print(\"Dag nodes that could have changed the distribution:\")\n",
    "distribution_changes = []\n",
    "for dag_node, distribution_change in no_bias_introduced_result.bias_distribution_change.items():\n",
    "    print('\\033[1m')\n",
    "    print(dag_node.operator_type, dag_node.code_reference, dag_node.module, dag_node.description, '\\033[0m')\n",
    "    distribution_changes.append(distribution_change)\n",
    "    for column, change_info in distribution_change.items():\n",
    "        if not change_info.acceptable_change:\n",
    "            print(\"Sensitive column '{}': \\033[1mThe distribution changed too much!\\033[0m\".format(column))\n",
    "        else:\n",
    "            print(\"Sensitive column '{}': No distribution change above the test threshold.\".format(column))"
   ]
  },
  {
   "cell_type": "markdown",
   "metadata": {},
   "source": [
    "# Step 3/3: Detailed Investigation\n",
    "\n",
    "As we can see, the selection causes the check to fail because of the `race` attribute. Still, we will investigate all of the operator changes to see if there is something else our check may have missed because the change was slightly below the change threshold of the `NoBiasIntroducedForConstraint([\"race\", \"sex\"])` (which can be configured by the user).\n",
    "\n",
    "## Let's see how different operations might change proportions of groups in data\n",
    "\n",
    "We start by looking at the first operator that could heavily change the proportion of groups in our data, the `.dropna()` selection. Then, ...\n"
   ]
  },
  {
   "cell_type": "code",
   "execution_count": 5,
   "metadata": {},
   "outputs": [
    {
     "name": "stdout",
     "output_type": "stream",
     "text": [
      "sex histogram\n"
     ]
    },
    {
     "data": {
      "image/png": "[encoded data removed]",
      "text/plain": [
       "<Figure size 864x288 with 2 Axes>"
      ]
     },
     "metadata": {
      "needs_background": "light"
     },
     "output_type": "display_data"
    },
    {
     "name": "stdout",
     "output_type": "stream",
     "text": [
      "race histogram\n"
     ]
    },
    {
     "data": {
      "image/png": "[encoded data removed]",
      "text/plain": [
       "<Figure size 864x288 with 2 Axes>"
      ]
     },
     "metadata": {
      "needs_background": "light"
     },
     "output_type": "display_data"
    }
   ],
   "source": [
    "selection = distribution_changes[0]\n",
    "print_dag_operator_histograms(selection, \"sex\")\n",
    "print_dag_operator_histograms(selection, \"race\")"
   ]
  },
  {
   "cell_type": "markdown",
   "metadata": {},
   "source": [
    "**As we can see, there are no noteworthy changes because of the join.**"
   ]
  },
  {
   "cell_type": "markdown",
   "metadata": {},
   "source": [
    "**The `most-frequent` imputation amplifies the existing `race` imbalance!**"
   ]
  },
  {
   "cell_type": "markdown",
   "metadata": {},
   "source": [
    "# Your answer: Did we find operators that introduce bias? How much did the distribution change?"
   ]
  },
  {
   "cell_type": "markdown",
   "metadata": {},
   "source": [
    "We conclude, gender bias can be found."
   ]
  },
  {
   "cell_type": "code",
   "execution_count": null,
   "metadata": {},
   "outputs": [],
   "source": []
  }
 ],
 "metadata": {
  "kernelspec": {
   "display_name": "Python 3",
   "language": "python",
   "name": "python3"
  },
  "language_info": {
   "codemirror_mode": {
    "name": "ipython",
    "version": 3
   },
   "file_extension": ".py",
   "mimetype": "text/x-python",
   "name": "python",
   "nbconvert_exporter": "python",
   "pygments_lexer": "ipython3",
   "version": "3.8.5"
  }
 },
 "nbformat": 4,
 "nbformat_minor": 4
}
