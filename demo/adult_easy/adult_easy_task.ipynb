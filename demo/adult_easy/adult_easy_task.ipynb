{
 "cells": [
  {
   "cell_type": "markdown",
   "metadata": {},
   "source": [
    "# Setup\n",
    "\n",
    "The necessary imports and a simple function to plot histograms"
   ]
  },
  {
   "cell_type": "code",
   "execution_count": 1,
   "metadata": {},
   "outputs": [],
   "source": [
    "import os\n",
    "import matplotlib.pyplot as plt\n",
    "\n",
    "from mlinspect.inspections.histogram_inspection import HistogramInspection\n",
    "from mlinspect.checks.no_bias_introduced_for_constraint import NoBiasIntroducedForConstraint\n",
    "from mlinspect.checks.no_illegal_features_constraint import NoIllegalFeaturesConstraint\n",
    "from mlinspect.checks.check import Check\n",
    "from demo.healthcare.no_missing_embeddings_constraint import NoMissingEmbeddingsConstraint\n",
    "from mlinspect.inspections.lineage_inspection import LineageInspection\n",
    "from mlinspect.inspections.materialize_first_rows_inspection import MaterializeFirstRowsInspection\n",
    "from mlinspect.pipeline_inspector import PipelineInspector\n",
    "from mlinspect.visualisation import save_fig_to_path\n",
    "from mlinspect.utils import get_project_root\n",
    "from mlinspect.instrumentation.dag_node import OperatorType\n",
    "import pandas as pd\n",
    "from IPython.display import display, HTML\n",
    "\n",
    "import warnings\n",
    "warnings.filterwarnings('ignore')"
   ]
  },
  {
   "cell_type": "code",
   "execution_count": 2,
   "metadata": {},
   "outputs": [],
   "source": [
    "def print_dag_operator_histograms(constraint_result, attribute):    \n",
    "    print(\"{} histogram\".format(attribute))\n",
    "            \n",
    "    plt.subplot(1, 2, 1)        \n",
    "    before_output_race_group = constraint_result[attribute].before_map\n",
    "    keys = [str(key) for key in before_output_race_group.keys()]\n",
    "    plt.bar(keys, before_output_race_group.values())\n",
    "    plt.gca().set_title(\"before\")\n",
    "   \n",
    "    plt.subplot(1, 2, 2)\n",
    "    after_output_race_group = constraint_result[attribute].after_map\n",
    "    keys = [str(key) for key in after_output_race_group.keys()]\n",
    "    plt.bar(keys, after_output_race_group.values())\n",
    "    plt.gca().set_title(\"after\")\n",
    "    \n",
    "    fig = plt.gcf()\n",
    "    fig.set_size_inches(12, 4)\n",
    "    plt.show()"
   ]
  },
  {
   "cell_type": "markdown",
   "metadata": {},
   "source": [
    "# Task description\n",
    "\n",
    "Operators like joins, selections and missing value imputaters can cause *data distribution issues*, which can heavily impact the performance of our model. Mlinspect helps with identifying such issues by offering an inspection to calculate historams for sensitive groups. Thanks to our annotation propagation, this works even if the group columns are projected out at some point. To automatically check for significant changes and compute the histograms, we used the `no_bias_introduced_for(...)` constraint.\n",
    "\n",
    "We want to find out if preprocessing operations in this pipeline introduce bias and if so, which groups are effected.\n",
    "The pipeline we want to analyse can be found using the path `os.path.join(str(get_project_root()), \"example_pipelines\", \"adult_easy\", \"adult_easy.py\")\n",
    "`. Its code:\n",
    "\n",
    "```python\n",
    "\"\"\"\n",
    "An example pipeline\n",
    "\"\"\"\n",
    "import os\n",
    "import pandas as pd\n",
    "from sklearn import compose, preprocessing, tree, pipeline\n",
    "from mlinspect.utils import get_project_root\n",
    "\n",
    "print('pipeline start')\n",
    "train_file = os.path.join(str(get_project_root()), \"example_pipelines\", \"adult_easy\", \"adult_train.csv\")\n",
    "raw_data = pd.read_csv(train_file, na_values='?', index_col=0)\n",
    "\n",
    "data = raw_data.dropna()\n",
    "labels = preprocessing.label_binarize(data['income-per-year'], classes=['>50K', '<=50K'])\n",
    "feature_transformation = compose.ColumnTransformer(transformers=[\n",
    "    ('categorical', preprocessing.OneHotEncoder(handle_unknown='ignore'), ['education', 'workclass']),\n",
    "    ('numeric', preprocessing.StandardScaler(), ['age', 'hours-per-week'])\n",
    "])\n",
    "\n",
    "income_pipeline = pipeline.Pipeline([\n",
    "    ('features', feature_transformation),\n",
    "    ('classifier', tree.DecisionTreeClassifier())])\n",
    "\n",
    "income_pipeline.fit(data, labels)\n",
    "print('pipeline finished')\n",
    "```\n",
    "\n",
    " This is using a benchmark dataset frequently used in the algorithmic fairness literature. `Adult income` contains information about 33,000 individuals from the 1994 U.S. census, with sensitive attributes gender and race. The corresponding task is to predict whether the annual income of an individual exceeds $50,000. "
   ]
  },
  {
   "cell_type": "markdown",
   "metadata": {},
   "source": [
    "# Step 1/3: Add inspections and execute the pipeline\n",
    "\n",
    "The central entry point of mlinspect is the `PipelineInspector`. To use mlinspect, we use it and pass it the path to the runnable version of the example pipeline. Here, we have the example pipeline in a `.py` file. \n",
    "\n",
    "First, we define the check we want mlinspect to run. In this example, we only use 1 check to compute histograms of sensitive groups and verify operators cause no significant distribution changes.\n",
    "\n",
    "Then, we execute the pipeline. Mlinspect returns a `InspectorResult`, which contains the output of our check. "
   ]
  },
  {
   "cell_type": "code",
   "execution_count": 3,
   "metadata": {},
   "outputs": [
    {
     "name": "stdout",
     "output_type": "stream",
     "text": [
      "pipeline start\n",
      "pipeline finished\n"
     ]
    }
   ],
   "source": [
    "HEALTHCARE_FILE_PY = os.path.join(str(get_project_root()), \"example_pipelines\", \"adult_easy\", \"adult_easy.py\")\n",
    "\n",
    "check = Check()\\\n",
    "    .no_bias_introduced_for([\"race\", \"sex\"])\\\n",
    "\n",
    "inspector_result = PipelineInspector\\\n",
    "    .on_pipeline_from_py_file(HEALTHCARE_FILE_PY) \\\n",
    "    .add_check(check) \\\n",
    "    .execute()\n",
    "\n",
    "inspection_results = inspector_result.inspection_to_annotations\n",
    "check_result = inspector_result.check_to_check_results[check]"
   ]
  },
  {
   "cell_type": "markdown",
   "metadata": {},
   "source": [
    "# Step 2/3: Overview of the check results\n",
    "## Did our check find issues?\n",
    "\n",
    "Let us look at the `check_result` to see whether some constraints failed. We see that some constraints failed and investigate which ones. As all 3 failed, we will look into each result in detail.\n",
    "\n",
    "Our check already filtered all operators that can cause data distribution issues. Now we will use the result to create list with all distribution changes and visualize them. Using this, we can investigate the changes of the different operators one at a time."
   ]
  },
  {
   "cell_type": "code",
   "execution_count": 4,
   "metadata": {},
   "outputs": [
    {
     "name": "stdout",
     "output_type": "stream",
     "text": [
      "NoBiasIntroducedForConstraint((('race', 'sex'), 0.3)): ConstraintStatus.SUCCESS\n",
      "\n",
      "Dag nodes that could have changed the distribution:\n",
      "\u001b[1m\n",
      "OperatorType.SELECTION CodeReference(lineno=14, col_offset=7, end_lineno=14, end_col_offset=24) ('pandas.core.frame', 'dropna') dropna \u001b[0m\n",
      "Sensitive column 'race': No distribution change above the test threshold.\n",
      "Sensitive column 'sex': No distribution change above the test threshold.\n"
     ]
    }
   ],
   "source": [
    "for constraint_result in check_result.constraint_results.values():\n",
    "    print(\"{}: {}\".format(constraint_result.constraint, constraint_result.status))\n",
    "\n",
    "no_bias_introduced_result = check_result.constraint_results[NoBiasIntroducedForConstraint([\"race\", \"sex\"])]\n",
    "\n",
    "print(\"\")\n",
    "print(\"Dag nodes that could have changed the distribution:\")\n",
    "distribution_changes = []\n",
    "for dag_node, distribution_change in no_bias_introduced_result.bias_distribution_change.items():\n",
    "    print('\\033[1m')\n",
    "    print(dag_node.operator_type, dag_node.code_reference, dag_node.module, dag_node.description, '\\033[0m')\n",
    "    distribution_changes.append(distribution_change)\n",
    "    for column, change_info in distribution_change.items():\n",
    "        if not change_info.acceptable_change:\n",
    "            print(\"Sensitive column '{}': \\033[1mThe distribution changed too much!\\033[0m\".format(column))\n",
    "        else:\n",
    "            print(\"Sensitive column '{}': No distribution change above the test threshold.\".format(column))"
   ]
  },
  {
   "cell_type": "markdown",
   "metadata": {},
   "source": [
    "# Step 3/3: Detailed Investigation\n",
    "\n",
    "As we can see, the selection causes the check to fail because of the `race` attribute. Still, we will investigate all of the operator changes to see if there is something else our check may have missed because the change was slightly below the change threshold of the `NoBiasIntroducedForConstraint([\"race\", \"sex\"])` (which can be configured by the user).\n",
    "\n",
    "## Let's see how different operations might change proportions of groups in data\n",
    "\n",
    "We start by looking at the first operator that could heavily change the proportion of groups in our data, the `.dropna()` selection. Then, ...\n"
   ]
  },
  {
   "cell_type": "code",
   "execution_count": 5,
   "metadata": {},
   "outputs": [
    {
     "name": "stdout",
     "output_type": "stream",
     "text": [
      "race histogram\n"
     ]
    },
    {
     "data": {
      "image/png": "[encoded data removed]",
      "text/plain": [
       "<Figure size 864x288 with 2 Axes>"
      ]
     },
     "metadata": {
      "needs_background": "light"
     },
     "output_type": "display_data"
    },
    {
     "name": "stdout",
     "output_type": "stream",
     "text": [
      "sex histogram\n"
     ]
    },
    {
     "data": {
      "image/png": "[encoded data removed]",
      "text/plain": [
       "<Figure size 864x288 with 2 Axes>"
      ]
     },
     "metadata": {
      "needs_background": "light"
     },
     "output_type": "display_data"
    }
   ],
   "source": [
    "selection = distribution_changes[0]\n",
    "print_dag_operator_histograms(selection, \"race\")\n",
    "print_dag_operator_histograms(selection, \"sex\")"
   ]
  },
  {
   "cell_type": "markdown",
   "metadata": {},
   "source": [
    "# Your answer: Did we find operators that introduce bias? How much did the distribution change?"
   ]
  },
  {
   "cell_type": "markdown",
   "metadata": {},
   "source": [
    "**TODO:** ..."
   ]
  },
  {
   "cell_type": "code",
   "execution_count": null,
   "metadata": {},
   "outputs": [],
   "source": []
  }
 ],
 "metadata": {
  "kernelspec": {
   "display_name": "Python 3",
   "language": "python",
   "name": "python3"
  },
  "language_info": {
   "codemirror_mode": {
    "name": "ipython",
    "version": 3
   },
   "file_extension": ".py",
   "mimetype": "text/x-python",
   "name": "python",
   "nbconvert_exporter": "python",
   "pygments_lexer": "ipython3",
   "version": "3.8.5"
  }
 },
 "nbformat": 4,
 "nbformat_minor": 4
}
