{
 "cells": [
  {
   "cell_type": "markdown",
   "metadata": {},
   "source": [
    "# Setup\n",
    "\n",
    "The necessary imports and a simple function to plot histograms"
   ]
  },
  {
   "cell_type": "code",
   "execution_count": 2,
   "metadata": {},
   "outputs": [],
   "source": [
    "import os\n",
    "import matplotlib.pyplot as plt\n",
    "\n",
    "from mlinspect.inspections.histogram_inspection import HistogramInspection\n",
    "from mlinspect.checks.no_bias_introduced_for_constraint import NoBiasIntroducedForConstraint\n",
    "from mlinspect.checks.no_illegal_features_constraint import NoIllegalFeaturesConstraint\n",
    "from mlinspect.checks.check import Check\n",
    "from demo.healthcare.no_missing_embeddings_constraint import NoMissingEmbeddingsConstraint\n",
    "from mlinspect.inspections.lineage_inspection import LineageInspection\n",
    "from mlinspect.inspections.materialize_first_rows_inspection import MaterializeFirstRowsInspection\n",
    "from mlinspect.pipeline_inspector import PipelineInspector\n",
    "from mlinspect.visualisation import save_fig_to_path\n",
    "from mlinspect.utils import get_project_root\n",
    "from mlinspect.instrumentation.dag_node import OperatorType\n",
    "import pandas as pd\n",
    "from IPython.display import display, HTML\n",
    "\n",
    "import warnings\n",
    "warnings.filterwarnings('ignore')"
   ]
  },
  {
   "cell_type": "code",
   "execution_count": 3,
   "metadata": {},
   "outputs": [],
   "source": [
    "def print_dag_operator_histograms(constraint_result, attribute):    \n",
    "    print(\"{} histogram\".format(attribute))\n",
    "            \n",
    "    plt.subplot(1, 2, 1)        \n",
    "    before_output_race_group = constraint_result[attribute].before_map\n",
    "    keys = [str(key) for key in before_output_race_group.keys()]\n",
    "    plt.bar(keys, before_output_race_group.values())\n",
    "    plt.gca().set_title(\"before\")\n",
    "   \n",
    "    plt.subplot(1, 2, 2)\n",
    "    after_output_race_group = constraint_result[attribute].after_map\n",
    "    keys = [str(key) for key in after_output_race_group.keys()]\n",
    "    plt.bar(keys, after_output_race_group.values())\n",
    "    plt.gca().set_title(\"after\")\n",
    "    \n",
    "    fig = plt.gcf()\n",
    "    fig.set_size_inches(12, 4)\n",
    "    plt.show()"
   ]
  },
  {
   "cell_type": "markdown",
   "metadata": {},
   "source": [
    "# Task description\n",
    "\n",
    "Operators like joins, selections and missing value imputaters can cause *data distribution issues*, which can heavily impact the performance of our model. Mlinspect helps with identifying such issues by offering an inspection to calculate historams for sensitive groups. Thanks to our annotation propagation, this works even if the group columns are projected out at some point (**Issue 2**). To automatically check for significant changes and compute the histograms, we used the `no_bias_introduced_for(...)` constraint.\n",
    "\n",
    "We want to find out if preprocessing operations in this pipeline introduce bias and if so, which groups are effected.\n",
    "The pipeline we want to analyse can be found using the path `os.path.join(str(get_project_root()), \"example_pipelines\", \"healthcare\", \"healthcare.py\")`. Its code:\n",
    "\n",
    "```python\n",
    "\"\"\"\n",
    "An example pipeline\n",
    "\"\"\"\n",
    "import os\n",
    "\n",
    "import pandas as pd\n",
    "from sklearn.compose import ColumnTransformer\n",
    "from sklearn.impute import SimpleImputer\n",
    "from sklearn.model_selection import train_test_split\n",
    "from sklearn.pipeline import Pipeline\n",
    "from sklearn.preprocessing import OneHotEncoder, StandardScaler\n",
    "from tensorflow.keras.wrappers.scikit_learn import KerasClassifier\n",
    "from demo.healthcare.demo_utils import MyW2VTransformer, create_model\n",
    "from mlinspect.utils import get_project_root\n",
    "\n",
    "COUNTIES_OF_INTEREST = ['county2', 'county3']\n",
    "\n",
    "# load input data sources\n",
    "patients = pd.read_csv(os.path.join(str(get_project_root()), \"example_pipelines\", \"healthcare\",\n",
    "                                    \"healthcare_patients.csv\"), na_values='?')\n",
    "histories = pd.read_csv(os.path.join(str(get_project_root()), \"example_pipelines\", \"healthcare\",\n",
    "                                     \"healthcare_histories.csv\"), na_values='?')\n",
    "\n",
    "# combine input data into a single table\n",
    "data = patients.merge(histories, on=['ssn'])\n",
    "\n",
    "# compute mean complications per age group, append as column\n",
    "complications = data.groupby('age_group').agg(mean_complications=('complications', 'mean'))\n",
    "\n",
    "data = data.merge(complications, on=['age_group'])\n",
    "\n",
    "# target variable: people with a high number of complications\n",
    "data['label'] = data['complications'] > 1.2 * data['mean_complications']\n",
    "\n",
    "# project data to a subset of attributes\n",
    "data = data[['smoker', 'last_name', 'county', 'num_children', 'race', 'income', 'label']]\n",
    "\n",
    "# filter data\n",
    "data = data[data['county'].isin(COUNTIES_OF_INTEREST)]\n",
    "\n",
    "# define the feature encoding of the data\n",
    "impute_and_one_hot_encode = Pipeline([\n",
    "        ('impute', SimpleImputer(strategy='most_frequent')),\n",
    "        ('encode', OneHotEncoder(sparse=False, handle_unknown='ignore'))\n",
    "    ])\n",
    "\n",
    "featurisation = ColumnTransformer(transformers=[\n",
    "    (\"impute_and_one_hot_encode\", impute_and_one_hot_encode, ['smoker', 'county', 'race']),\n",
    "    ('word2vec', MyW2VTransformer(min_count=2), ['last_name']),\n",
    "    ('numeric', StandardScaler(), ['num_children', 'income'])\n",
    "])\n",
    "\n",
    "# define the training pipeline for the model\n",
    "neural_net = KerasClassifier(build_fn=create_model, epochs=10, batch_size=1, verbose=0, input_dim=109)\n",
    "pipeline = Pipeline([\n",
    "    ('features', featurisation),\n",
    "    ('learner', neural_net)])\n",
    "\n",
    "# train-test split\n",
    "train_data, test_data = train_test_split(data, random_state=0)\n",
    "# model training\n",
    "model = pipeline.fit(train_data, train_data['label'])\n",
    "# model evaluation\n",
    "print(model.score(test_data, test_data['label']))\n",
    "\n",
    "```\n",
    "\n",
    " This is using a synthetic benchmark dataset we created. "
   ]
  },
  {
   "cell_type": "markdown",
   "metadata": {},
   "source": [
    "# Add inspections and execute the pipeline\n",
    "\n",
    "The central entry point of mlinspect is the `PipelineInspector`. To use mlinspect, we use it and pass it the path to the runnable version of the example pipeline. Here, we have the example pipeline in a `.py` file. \n",
    "\n",
    "First, we define the check we want mlinspect to run. In this example, we only use 1 check to compute histograms of sensitive groups and verify operators cause no significant distribution changes.\n",
    "\n",
    "Then, we execute the pipeline. Mlinspect returns a `InspectorResult`, which contains the output of our check. "
   ]
  },
  {
   "cell_type": "code",
   "execution_count": 4,
   "metadata": {},
   "outputs": [
    {
     "name": "stdout",
     "output_type": "stream",
     "text": [
      "0.42465752363204956\n"
     ]
    }
   ],
   "source": [
    "HEALTHCARE_FILE_PY = os.path.join(str(get_project_root()), \"example_pipelines\", \"healthcare\", \"healthcare.py\")\n",
    "\n",
    "check = Check()\\\n",
    "    .no_bias_introduced_for([\"age_group\", \"race\"])\\\n",
    "\n",
    "inspector_result = PipelineInspector\\\n",
    "    .on_pipeline_from_py_file(HEALTHCARE_FILE_PY) \\\n",
    "    .add_check(check) \\\n",
    "    .execute()\n",
    "\n",
    "inspection_results = inspector_result.inspection_to_annotations\n",
    "check_result = inspector_result.check_to_check_results[check]"
   ]
  },
  {
   "cell_type": "markdown",
   "metadata": {},
   "source": [
    "### Did our check find issues?\n",
    "\n",
    "Let us look at the `check_result` to see whether some constraints failed. We see that some constraints failed and investigate which ones. As all 3 failed, we will look into each result in detail."
   ]
  },
  {
   "cell_type": "code",
   "execution_count": 23,
   "metadata": {},
   "outputs": [
    {
     "name": "stdout",
     "output_type": "stream",
     "text": [
      "CheckStatus.SUCCESS\n",
      "\n",
      "NoBiasIntroducedForConstraint((('race', 'sex'), 0.3)): ConstraintStatus.SUCCESS\n"
     ]
    }
   ],
   "source": [
    "print(check_result.status)\n",
    "print(\"\")\n",
    "for constraint_result in check_result.constraint_results.values():\n",
    "    print(\"{}: {}\".format(constraint_result.constraint, constraint_result.status))"
   ]
  },
  {
   "cell_type": "markdown",
   "metadata": {},
   "source": [
    "# We can look at how histograms of sensitive groups change after different Dag nodes\n",
    "\n",
    "Our check already filtered all operators that can cause data distribution issues. Now we will use the result to create list with all distribution changes and visualize them. Using this, we can investigate the changes of the different operators one at a time."
   ]
  },
  {
   "cell_type": "code",
   "execution_count": 11,
   "metadata": {},
   "outputs": [
    {
     "name": "stdout",
     "output_type": "stream",
     "text": [
      "Dag nodes that could have changed the distribution:\n",
      "\u001b[1m\n",
      "OperatorType.JOIN CodeReference(lineno=25, col_offset=7, end_lineno=25, end_col_offset=44) ('pandas.core.frame', 'merge') on ['ssn'] \u001b[0m\n",
      "Sensitive column 'age_group': No distribution change above the test threshold.\n",
      "Sensitive column 'race': No distribution change above the test threshold.\n",
      "\u001b[1m\n",
      "OperatorType.JOIN CodeReference(lineno=30, col_offset=7, end_lineno=30, end_col_offset=50) ('pandas.core.frame', 'merge') on ['age_group'] \u001b[0m\n",
      "Sensitive column 'age_group': No distribution change above the test threshold.\n",
      "Sensitive column 'race': No distribution change above the test threshold.\n",
      "\u001b[1m\n",
      "OperatorType.SELECTION CodeReference(lineno=39, col_offset=7, end_lineno=39, end_col_offset=54) ('pandas.core.frame', '__getitem__', 'Selection') Select by series (indirectly using 'None') \u001b[0m\n",
      "Sensitive column 'age_group': No distribution change above the test threshold.\n",
      "Sensitive column 'race': \u001b[1mThe distribution changed too much!\u001b[0m\n",
      "\u001b[1m\n",
      "OperatorType.TRANSFORMER CodeReference(lineno=43, col_offset=19, end_lineno=43, end_col_offset=58) ('sklearn.impute._base', 'SimpleImputer', 'Pipeline') Imputer (SimpleImputer), Column: 'race' \u001b[0m\n",
      "Sensitive column 'age_group': No distribution change above the test threshold.\n",
      "Sensitive column 'race': No distribution change above the test threshold.\n"
     ]
    }
   ],
   "source": [
    "no_bias_introduced_result = check_result.constraint_results[NoBiasIntroducedForConstraint([\"age_group\", \"race\"])]\n",
    "\n",
    "print(\"Dag nodes that could have changed the distribution:\")\n",
    "distribution_changes = []\n",
    "for dag_node, distribution_change in no_bias_introduced_result.bias_distribution_change.items():\n",
    "    print('\\033[1m')\n",
    "    print(dag_node.operator_type, dag_node.code_reference, dag_node.module, dag_node.description, '\\033[0m')\n",
    "    distribution_changes.append(distribution_change)\n",
    "    for column, change_info in distribution_change.items():\n",
    "        if not change_info.acceptable_change:\n",
    "            print(\"Sensitive column '{}': \\033[1mThe distribution changed too much!\\033[0m\".format(column))\n",
    "        else:\n",
    "            print(\"Sensitive column '{}': No distribution change above the test threshold.\".format(column))"
   ]
  },
  {
   "cell_type": "markdown",
   "metadata": {},
   "source": [
    "As we can see, the selection causes the check to fail because of the `race` attribute. Still, we will investigate all of the operator changes to see if there is something else our check may have missed because the change was slightly below the change threshold of the `NoBiasIntroducedForConstraint([\"age_group\", \"race\"])` (which can be configured by the user)."
   ]
  },
  {
   "cell_type": "markdown",
   "metadata": {},
   "source": [
    "## Let's see how different operations might change proportions of groups in data\n",
    "\n",
    "We start by looking at the first operator that could heavily change the proportion of groups in our data, the `.dropna()` selection. Then, ..."
   ]
  },
  {
   "cell_type": "code",
   "execution_count": 6,
   "metadata": {},
   "outputs": [
    {
     "name": "stdout",
     "output_type": "stream",
     "text": [
      "age_group histogram\n"
     ]
    },
    {
     "data": {
      "image/png": "[encoded data removed]",
      "text/plain": [
       "<Figure size 864x288 with 2 Axes>"
      ]
     },
     "metadata": {
      "needs_background": "light"
     },
     "output_type": "display_data"
    },
    {
     "name": "stdout",
     "output_type": "stream",
     "text": [
      "race histogram\n"
     ]
    },
    {
     "data": {
      "image/png": "[encoded data removed]",
      "text/plain": [
       "<Figure size 864x288 with 2 Axes>"
      ]
     },
     "metadata": {
      "needs_background": "light"
     },
     "output_type": "display_data"
    }
   ],
   "source": [
    "selection = distribution_changes[0]\n",
    "print_dag_operator_histograms(selection, \"age_group\")\n",
    "print_dag_operator_histograms(selection, \"race\")"
   ]
  },
  {
   "cell_type": "markdown",
   "metadata": {},
   "source": [
    "**As we can see, there are no noteworthy changes because of the join.**"
   ]
  },
  {
   "cell_type": "markdown",
   "metadata": {},
   "source": [
    "**The `most-frequent` imputation amplifies the existing `race` imbalance!**"
   ]
  },
  {
   "cell_type": "markdown",
   "metadata": {},
   "source": [
    "# Solution: Did we find operators that introduce bias?"
   ]
  },
  {
   "cell_type": "markdown",
   "metadata": {},
   "source": [
    "We conclude, gender bias can be found."
   ]
  },
  {
   "cell_type": "code",
   "execution_count": null,
   "metadata": {},
   "outputs": [],
   "source": []
  }
 ],
 "metadata": {
  "kernelspec": {
   "display_name": "Python 3",
   "language": "python",
   "name": "python3"
  },
  "language_info": {
   "codemirror_mode": {
    "name": "ipython",
    "version": 3
   },
   "file_extension": ".py",
   "mimetype": "text/x-python",
   "name": "python",
   "nbconvert_exporter": "python",
   "pygments_lexer": "ipython3",
   "version": "3.8.5"
  }
 },
 "nbformat": 4,
 "nbformat_minor": 4
}
