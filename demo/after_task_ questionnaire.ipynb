{
 "cells": [
  {
   "cell_type": "markdown",
   "metadata": {},
   "source": [
    "# Survey\n",
    "\n",
    "WIP. See the links \n",
    "* https://help.qualaroo.com/hc/en-us/articles/360039070552-After-Scenario-Questionnaire-ASQ-\n",
    "* http://ehealth.uvic.ca/resources/tools/UsabilityBenchmarking/05a-2011.02.15-ASQ_and_PSSUQ_Questionnaires-no_supplements-v3.0.pdf\n",
    "* https://cxl.com/blog/8-ways-to-measure-ux-satisfaction/\n",
    "\n",
    "## Single Ease Question (SEQ)?\n",
    "* Overall, this task was\n",
    "0-very difficult ... 6-very easy\n",
    "\n",
    "## ASQ\n",
    "* Overall, I am satisfied with the ease of completing this task. \n",
    "* Overall, I am satisfied with the amount of time it took to complete this task. \n",
    "* Overall, I am satisfied with the support information (on-line help, messages, documentation) when completing this task. \n",
    "* Overall, I am satisfied with the ease of completing this task. \n",
    "* Overall, I am satisfied with the amount of time it took to complete this task. \n",
    "* Overall, I am satisfied with the support information (on-line help, messages, documentation) when completing this task. \n",
    "* Overall, I am satisfied with the ease of completing this task. \n",
    "* Overall, I am satisfied with the amount of time it took to complete this task. \n",
    "* Overall, I am satisfied with the support information (on-line help, messages, documentation) when completing this task. \n",
    "\n",
    "\n",
    "\n",
    "## PSSUQ: (Agreement 1-7 + Options to comment)\n",
    "* Overall, I am satisfied with how easy it is to use this system. \n",
    "* It was simple to use this system. \n",
    "* I could effectively complete the tasks and scenarios using this system. \n",
    "* I was able to complete the tasks and scenarios quickly using this system. \n",
    "* I was able to efficiently complete the tasks and scenarios using this system. \n",
    "* I felt comfortable using this system. \n",
    "* It was easy to learn to use this system. \n",
    "* I believe I could become productive quickly using this system. \n",
    "* The system gave error messages that clearly told me how to fix problems. \n",
    "* Whenever I made a mistake using the system, I could recover easily and quickly. \n",
    "* The information (such as on-line help, on-screen messages and other documentation) provided with this system was clear. \n",
    "* It was easy to find the information I needed. \n",
    "* The information provided for the system was easy to understand. \n",
    "* The information was effective in helping me complete the tasks and scenarios. \n",
    "* Question not applicable\n",
    "* The interface of this system was pleasant. \n",
    "* I liked using the interface of this system. \n",
    "This system has all the functions and capabilities I expect it to have. \n",
    "Overall, I am satisfied with this system. \n",
    "\n",
    "\n",
    "## Do this in a notebook? With a proper survey tool? Do we need a signed agreement that we can use the result in the thesis?\n",
    "\n",
    "* Question 1: Do you feel like mlinspect helped you solve the task? (update questions once we settled on a questionnaire)"
   ]
  },
  {
   "cell_type": "markdown",
   "metadata": {},
   "source": [
    "*Your answer*"
   ]
  },
  {
   "cell_type": "markdown",
   "metadata": {},
   "source": [
    "* Question 2: ..."
   ]
  },
  {
   "cell_type": "code",
   "execution_count": null,
   "metadata": {},
   "outputs": [],
   "source": []
  }
 ],
 "metadata": {
  "kernelspec": {
   "display_name": "Python 3",
   "language": "python",
   "name": "python3"
  },
  "language_info": {
   "codemirror_mode": {
    "name": "ipython",
    "version": 3
   },
   "file_extension": ".py",
   "mimetype": "text/x-python",
   "name": "python",
   "nbconvert_exporter": "python",
   "pygments_lexer": "ipython3",
   "version": "3.8.5"
  }
 },
 "nbformat": 4,
 "nbformat_minor": 4
}
